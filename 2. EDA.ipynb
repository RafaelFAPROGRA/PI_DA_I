{
 "cells": [
  {
   "cell_type": "markdown",
   "metadata": {},
   "source": [
    "# EDA (Exploratory Data Analysis)"
   ]
  },
  {
   "cell_type": "code",
   "execution_count": 11,
   "metadata": {},
   "outputs": [],
   "source": [
    "# Importar librerías\n",
    "\n",
    "import pandas as pd\n",
    "from summarytools import dfSummary\n",
    "import numpy as np\n",
    "import matplotlib.pyplot as plt\n",
    "import seaborn as sns\n",
    "import geopandas as gpd\n",
    "from shapely.geometry import Point, Polygon"
   ]
  },
  {
   "cell_type": "code",
   "execution_count": 2,
   "metadata": {},
   "outputs": [],
   "source": [
    "## Cargamos los archivos limpios\n",
    "\n",
    "df_h=pd.read_excel('./dataset/hechos.xlsx')\n",
    "df_v=pd.read_excel('./dataset/victimas.xlsx')"
   ]
  },
  {
   "cell_type": "code",
   "execution_count": 3,
   "metadata": {},
   "outputs": [
    {
     "name": "stdout",
     "output_type": "stream",
     "text": [
      "<class 'pandas.core.frame.DataFrame'>\n",
      "RangeIndex: 696 entries, 0 to 695\n",
      "Data columns (total 11 columns):\n",
      " #   Column            Non-Null Count  Dtype         \n",
      "---  ------            --------------  -----         \n",
      " 0   ID_HECHO          696 non-null    object        \n",
      " 1   N_VICTIMAS        696 non-null    int64         \n",
      " 2   FECHA             696 non-null    datetime64[ns]\n",
      " 3   HORA              695 non-null    float64       \n",
      " 4   TIPO_DE_CALLE     696 non-null    object        \n",
      " 5   COMUNA            694 non-null    float64       \n",
      " 6   XY (CABA)         682 non-null    object        \n",
      " 7   LONGITUD          684 non-null    float64       \n",
      " 8   LATITUD           684 non-null    float64       \n",
      " 9   VEHICULO_VICTIMA  687 non-null    object        \n",
      " 10  VEHICULO_ACUSADO  673 non-null    object        \n",
      "dtypes: datetime64[ns](1), float64(4), int64(1), object(5)\n",
      "memory usage: 59.9+ KB\n"
     ]
    }
   ],
   "source": [
    "df_h.info()"
   ]
  },
  {
   "cell_type": "code",
   "execution_count": 4,
   "metadata": {},
   "outputs": [
    {
     "name": "stdout",
     "output_type": "stream",
     "text": [
      "<class 'pandas.core.frame.DataFrame'>\n",
      "RangeIndex: 717 entries, 0 to 716\n",
      "Data columns (total 7 columns):\n",
      " #   Column            Non-Null Count  Dtype         \n",
      "---  ------            --------------  -----         \n",
      " 0   ID_HECHO          717 non-null    object        \n",
      " 1   FECHA             717 non-null    datetime64[ns]\n",
      " 2   ROL_VICTIMA       706 non-null    object        \n",
      " 3   VEHICULO_VICTIMA  708 non-null    object        \n",
      " 4   SEXO_VICTIMA      711 non-null    object        \n",
      " 5   EDAD_VICTIMA      664 non-null    float64       \n",
      " 6   RANGO_ETARIO      664 non-null    object        \n",
      "dtypes: datetime64[ns](1), float64(1), object(5)\n",
      "memory usage: 39.3+ KB\n"
     ]
    }
   ],
   "source": [
    "df_v.info()"
   ]
  },
  {
   "cell_type": "markdown",
   "metadata": {},
   "source": [
    "Al ver que no se cambió el tipo, lo cambiamos ahora."
   ]
  },
  {
   "cell_type": "code",
   "execution_count": 19,
   "metadata": {},
   "outputs": [
    {
     "name": "stdout",
     "output_type": "stream",
     "text": [
      "<class 'pandas.core.frame.DataFrame'>\n",
      "RangeIndex: 696 entries, 0 to 695\n",
      "Data columns (total 11 columns):\n",
      " #   Column            Non-Null Count  Dtype         \n",
      "---  ------            --------------  -----         \n",
      " 0   ID_HECHO          696 non-null    object        \n",
      " 1   N_VICTIMAS        696 non-null    int64         \n",
      " 2   FECHA             696 non-null    datetime64[ns]\n",
      " 3   HORA              696 non-null    int64         \n",
      " 4   TIPO_DE_CALLE     696 non-null    category      \n",
      " 5   COMUNA            694 non-null    category      \n",
      " 6   XY (CABA)         682 non-null    object        \n",
      " 7   LONGITUD          684 non-null    float64       \n",
      " 8   LATITUD           684 non-null    float64       \n",
      " 9   VEHICULO_VICTIMA  687 non-null    category      \n",
      " 10  VEHICULO_ACUSADO  673 non-null    category      \n",
      "dtypes: category(4), datetime64[ns](1), float64(2), int64(2), object(2)\n",
      "memory usage: 42.4+ KB\n"
     ]
    }
   ],
   "source": [
    "#Para la tabla HECHOS\n",
    "\n",
    "#Cambiamos el tipo de algunas dimensiones(columnas) a Categóricos\n",
    "df_h['TIPO_DE_CALLE'] = df_h['TIPO_DE_CALLE'].astype('category')\n",
    "df_h['COMUNA'] = df_h['COMUNA'].astype('category')\n",
    "df_h['VEHICULO_VICTIMA'] = df_h['VEHICULO_VICTIMA'].astype('category')\n",
    "df_h['VEHICULO_ACUSADO'] = df_h['VEHICULO_ACUSADO'].astype('category')\n",
    "\n",
    "#Cambiamos el tipo de algunas dimensiones(columnas) a int\n",
    "df_h['HORA'] = df_h['HORA'].fillna(0).astype('int64')\n",
    "\n",
    "#Cambiamos el tipo de la fecha\n",
    "df_h['FECHA'] = df_h['FECHA'].astype('datetime64[ns]')\n",
    "df_h.info()"
   ]
  },
  {
   "cell_type": "code",
   "execution_count": 20,
   "metadata": {},
   "outputs": [],
   "source": [
    "#Para la tabla VICTIMAS\n",
    "\n",
    "#Cambiamos el tipo de algunas dimensiones(columnas) a Categóricos\n",
    "df_v['ROL_VICTIMA'] = df_v['ROL_VICTIMA'].astype('category')\n",
    "df_v['VEHICULO_VICTIMA'] = df_v['VEHICULO_VICTIMA'].astype('category')\n",
    "df_v['SEXO_VICTIMA'] = df_v['SEXO_VICTIMA'].astype('category')\n",
    "df_v['RANGO_ETARIO'] = df_v['RANGO_ETARIO'].astype('category')\n",
    "\n",
    "\n",
    "#Cambiamos el tipo de la fecha\n",
    "df_h['FECHA'] = df_h['FECHA'].astype('datetime64[ns]')"
   ]
  },
  {
   "cell_type": "markdown",
   "metadata": {},
   "source": [
    "**ENTENDER LAS VARIABLES**"
   ]
  },
  {
   "cell_type": "markdown",
   "metadata": {},
   "source": [
    "**Tabla de \"HECHOS\"**"
   ]
  },
  {
   "cell_type": "code",
   "execution_count": 21,
   "metadata": {},
   "outputs": [
    {
     "data": {
      "text/html": [
       "<div>\n",
       "<style scoped>\n",
       "    .dataframe tbody tr th:only-of-type {\n",
       "        vertical-align: middle;\n",
       "    }\n",
       "\n",
       "    .dataframe tbody tr th {\n",
       "        vertical-align: top;\n",
       "    }\n",
       "\n",
       "    .dataframe thead th {\n",
       "        text-align: right;\n",
       "    }\n",
       "</style>\n",
       "<table border=\"1\" class=\"dataframe\">\n",
       "  <thead>\n",
       "    <tr style=\"text-align: right;\">\n",
       "      <th></th>\n",
       "      <th>ID_HECHO</th>\n",
       "      <th>N_VICTIMAS</th>\n",
       "      <th>FECHA</th>\n",
       "      <th>HORA</th>\n",
       "      <th>TIPO_DE_CALLE</th>\n",
       "      <th>COMUNA</th>\n",
       "      <th>XY (CABA)</th>\n",
       "      <th>LONGITUD</th>\n",
       "      <th>LATITUD</th>\n",
       "      <th>VEHICULO_VICTIMA</th>\n",
       "      <th>VEHICULO_ACUSADO</th>\n",
       "    </tr>\n",
       "  </thead>\n",
       "  <tbody>\n",
       "    <tr>\n",
       "      <th>0</th>\n",
       "      <td>2016-0001</td>\n",
       "      <td>1</td>\n",
       "      <td>2016-01-01</td>\n",
       "      <td>4</td>\n",
       "      <td>AVENIDA</td>\n",
       "      <td>8.0</td>\n",
       "      <td>Point (98896.78238426 93532.43437792)</td>\n",
       "      <td>-58.475340</td>\n",
       "      <td>-34.687570</td>\n",
       "      <td>MOTO</td>\n",
       "      <td>AUTO</td>\n",
       "    </tr>\n",
       "    <tr>\n",
       "      <th>1</th>\n",
       "      <td>2016-0002</td>\n",
       "      <td>1</td>\n",
       "      <td>2016-01-02</td>\n",
       "      <td>1</td>\n",
       "      <td>AVENIDA</td>\n",
       "      <td>9.0</td>\n",
       "      <td>Point (95832.05571093 95505.41641999)</td>\n",
       "      <td>-58.508775</td>\n",
       "      <td>-34.669777</td>\n",
       "      <td>AUTO</td>\n",
       "      <td>PASAJEROS</td>\n",
       "    </tr>\n",
       "    <tr>\n",
       "      <th>2</th>\n",
       "      <td>2016-0003</td>\n",
       "      <td>1</td>\n",
       "      <td>2016-01-03</td>\n",
       "      <td>7</td>\n",
       "      <td>AVENIDA</td>\n",
       "      <td>1.0</td>\n",
       "      <td>Point (106684.29090040 99706.57687843)</td>\n",
       "      <td>-58.390403</td>\n",
       "      <td>-34.631894</td>\n",
       "      <td>MOTO</td>\n",
       "      <td>AUTO</td>\n",
       "    </tr>\n",
       "    <tr>\n",
       "      <th>3</th>\n",
       "      <td>2016-0004</td>\n",
       "      <td>1</td>\n",
       "      <td>2016-01-10</td>\n",
       "      <td>0</td>\n",
       "      <td>AVENIDA</td>\n",
       "      <td>8.0</td>\n",
       "      <td>Point (99840.65224780 94269.16534422)</td>\n",
       "      <td>-58.465039</td>\n",
       "      <td>-34.680930</td>\n",
       "      <td>MOTO</td>\n",
       "      <td>NaN</td>\n",
       "    </tr>\n",
       "    <tr>\n",
       "      <th>4</th>\n",
       "      <td>2016-0005</td>\n",
       "      <td>1</td>\n",
       "      <td>2016-01-21</td>\n",
       "      <td>5</td>\n",
       "      <td>AVENIDA</td>\n",
       "      <td>1.0</td>\n",
       "      <td>Point (106980.32827929 100752.16915795)</td>\n",
       "      <td>-58.387183</td>\n",
       "      <td>-34.622466</td>\n",
       "      <td>MOTO</td>\n",
       "      <td>PASAJEROS</td>\n",
       "    </tr>\n",
       "  </tbody>\n",
       "</table>\n",
       "</div>"
      ],
      "text/plain": [
       "    ID_HECHO  N_VICTIMAS      FECHA  HORA TIPO_DE_CALLE COMUNA  \\\n",
       "0  2016-0001           1 2016-01-01     4       AVENIDA    8.0   \n",
       "1  2016-0002           1 2016-01-02     1       AVENIDA    9.0   \n",
       "2  2016-0003           1 2016-01-03     7       AVENIDA    1.0   \n",
       "3  2016-0004           1 2016-01-10     0       AVENIDA    8.0   \n",
       "4  2016-0005           1 2016-01-21     5       AVENIDA    1.0   \n",
       "\n",
       "                                 XY (CABA)   LONGITUD    LATITUD  \\\n",
       "0    Point (98896.78238426 93532.43437792) -58.475340 -34.687570   \n",
       "1    Point (95832.05571093 95505.41641999) -58.508775 -34.669777   \n",
       "2   Point (106684.29090040 99706.57687843) -58.390403 -34.631894   \n",
       "3    Point (99840.65224780 94269.16534422) -58.465039 -34.680930   \n",
       "4  Point (106980.32827929 100752.16915795) -58.387183 -34.622466   \n",
       "\n",
       "  VEHICULO_VICTIMA VEHICULO_ACUSADO  \n",
       "0             MOTO             AUTO  \n",
       "1             AUTO        PASAJEROS  \n",
       "2             MOTO             AUTO  \n",
       "3             MOTO              NaN  \n",
       "4             MOTO        PASAJEROS  "
      ]
     },
     "execution_count": 21,
     "metadata": {},
     "output_type": "execute_result"
    }
   ],
   "source": [
    "#Visualizamos las primeras filas\n",
    "df_h.head()"
   ]
  },
  {
   "cell_type": "code",
   "execution_count": 22,
   "metadata": {},
   "outputs": [
    {
     "data": {
      "text/html": [
       "<div>\n",
       "<style scoped>\n",
       "    .dataframe tbody tr th:only-of-type {\n",
       "        vertical-align: middle;\n",
       "    }\n",
       "\n",
       "    .dataframe tbody tr th {\n",
       "        vertical-align: top;\n",
       "    }\n",
       "\n",
       "    .dataframe thead th {\n",
       "        text-align: right;\n",
       "    }\n",
       "</style>\n",
       "<table border=\"1\" class=\"dataframe\">\n",
       "  <thead>\n",
       "    <tr style=\"text-align: right;\">\n",
       "      <th></th>\n",
       "      <th>ID_HECHO</th>\n",
       "      <th>N_VICTIMAS</th>\n",
       "      <th>FECHA</th>\n",
       "      <th>HORA</th>\n",
       "      <th>TIPO_DE_CALLE</th>\n",
       "      <th>COMUNA</th>\n",
       "      <th>XY (CABA)</th>\n",
       "      <th>LONGITUD</th>\n",
       "      <th>LATITUD</th>\n",
       "      <th>VEHICULO_VICTIMA</th>\n",
       "      <th>VEHICULO_ACUSADO</th>\n",
       "    </tr>\n",
       "  </thead>\n",
       "  <tbody>\n",
       "    <tr>\n",
       "      <th>691</th>\n",
       "      <td>2021-0093</td>\n",
       "      <td>1</td>\n",
       "      <td>2021-12-13</td>\n",
       "      <td>17</td>\n",
       "      <td>AVENIDA</td>\n",
       "      <td>7.0</td>\n",
       "      <td>Point (102728.60090138 98186.24929177)</td>\n",
       "      <td>-58.433538</td>\n",
       "      <td>-34.645616</td>\n",
       "      <td>MOTO</td>\n",
       "      <td>AUTO</td>\n",
       "    </tr>\n",
       "    <tr>\n",
       "      <th>692</th>\n",
       "      <td>2021-0094</td>\n",
       "      <td>1</td>\n",
       "      <td>2021-12-20</td>\n",
       "      <td>1</td>\n",
       "      <td>AUTOPISTA</td>\n",
       "      <td>9.0</td>\n",
       "      <td>Point (99624.29795829 97569.69801131)</td>\n",
       "      <td>-58.467398</td>\n",
       "      <td>-34.651178</td>\n",
       "      <td>MOTO</td>\n",
       "      <td>AUTO</td>\n",
       "    </tr>\n",
       "    <tr>\n",
       "      <th>693</th>\n",
       "      <td>2021-0095</td>\n",
       "      <td>1</td>\n",
       "      <td>2021-12-30</td>\n",
       "      <td>0</td>\n",
       "      <td>AVENIDA</td>\n",
       "      <td>11.0</td>\n",
       "      <td>Point (99116.45492358 101045.23284826)</td>\n",
       "      <td>-58.472934</td>\n",
       "      <td>-34.619847</td>\n",
       "      <td>MOTO</td>\n",
       "      <td>CARGAS</td>\n",
       "    </tr>\n",
       "    <tr>\n",
       "      <th>694</th>\n",
       "      <td>2021-0096</td>\n",
       "      <td>1</td>\n",
       "      <td>2021-12-15</td>\n",
       "      <td>10</td>\n",
       "      <td>AVENIDA</td>\n",
       "      <td>9.0</td>\n",
       "      <td>Point (99324.54463985 97676.26932409)</td>\n",
       "      <td>-58.470668</td>\n",
       "      <td>-34.650217</td>\n",
       "      <td>AUTO</td>\n",
       "      <td>CARGAS</td>\n",
       "    </tr>\n",
       "    <tr>\n",
       "      <th>695</th>\n",
       "      <td>2021-0097</td>\n",
       "      <td>1</td>\n",
       "      <td>2021-11-18</td>\n",
       "      <td>6</td>\n",
       "      <td>CALLE</td>\n",
       "      <td>1.0</td>\n",
       "      <td>Point (107664.16647795 104708.63962087)</td>\n",
       "      <td>-58.379762</td>\n",
       "      <td>-34.586796</td>\n",
       "      <td>BICICLETA</td>\n",
       "      <td>AUTO</td>\n",
       "    </tr>\n",
       "  </tbody>\n",
       "</table>\n",
       "</div>"
      ],
      "text/plain": [
       "      ID_HECHO  N_VICTIMAS      FECHA  HORA TIPO_DE_CALLE COMUNA  \\\n",
       "691  2021-0093           1 2021-12-13    17       AVENIDA    7.0   \n",
       "692  2021-0094           1 2021-12-20     1     AUTOPISTA    9.0   \n",
       "693  2021-0095           1 2021-12-30     0       AVENIDA   11.0   \n",
       "694  2021-0096           1 2021-12-15    10       AVENIDA    9.0   \n",
       "695  2021-0097           1 2021-11-18     6         CALLE    1.0   \n",
       "\n",
       "                                   XY (CABA)   LONGITUD    LATITUD  \\\n",
       "691   Point (102728.60090138 98186.24929177) -58.433538 -34.645616   \n",
       "692    Point (99624.29795829 97569.69801131) -58.467398 -34.651178   \n",
       "693   Point (99116.45492358 101045.23284826) -58.472934 -34.619847   \n",
       "694    Point (99324.54463985 97676.26932409) -58.470668 -34.650217   \n",
       "695  Point (107664.16647795 104708.63962087) -58.379762 -34.586796   \n",
       "\n",
       "    VEHICULO_VICTIMA VEHICULO_ACUSADO  \n",
       "691             MOTO             AUTO  \n",
       "692             MOTO             AUTO  \n",
       "693             MOTO           CARGAS  \n",
       "694             AUTO           CARGAS  \n",
       "695        BICICLETA             AUTO  "
      ]
     },
     "execution_count": 22,
     "metadata": {},
     "output_type": "execute_result"
    }
   ],
   "source": [
    "#Visualizamos las últimas filas\n",
    "df_h.tail()"
   ]
  },
  {
   "cell_type": "code",
   "execution_count": 23,
   "metadata": {},
   "outputs": [
    {
     "data": {
      "text/html": [
       "<div>\n",
       "<style scoped>\n",
       "    .dataframe tbody tr th:only-of-type {\n",
       "        vertical-align: middle;\n",
       "    }\n",
       "\n",
       "    .dataframe tbody tr th {\n",
       "        vertical-align: top;\n",
       "    }\n",
       "\n",
       "    .dataframe thead th {\n",
       "        text-align: right;\n",
       "    }\n",
       "</style>\n",
       "<table border=\"1\" class=\"dataframe\">\n",
       "  <thead>\n",
       "    <tr style=\"text-align: right;\">\n",
       "      <th></th>\n",
       "      <th>N_VICTIMAS</th>\n",
       "      <th>FECHA</th>\n",
       "      <th>HORA</th>\n",
       "      <th>LONGITUD</th>\n",
       "      <th>LATITUD</th>\n",
       "    </tr>\n",
       "  </thead>\n",
       "  <tbody>\n",
       "    <tr>\n",
       "      <th>count</th>\n",
       "      <td>696.000000</td>\n",
       "      <td>696</td>\n",
       "      <td>696.000000</td>\n",
       "      <td>684.000000</td>\n",
       "      <td>684.000000</td>\n",
       "    </tr>\n",
       "    <tr>\n",
       "      <th>mean</th>\n",
       "      <td>1.030172</td>\n",
       "      <td>2018-09-14 05:12:24.827586048</td>\n",
       "      <td>11.640805</td>\n",
       "      <td>-58.441545</td>\n",
       "      <td>-34.619632</td>\n",
       "    </tr>\n",
       "    <tr>\n",
       "      <th>min</th>\n",
       "      <td>1.000000</td>\n",
       "      <td>2016-01-01 00:00:00</td>\n",
       "      <td>0.000000</td>\n",
       "      <td>-58.529942</td>\n",
       "      <td>-34.705250</td>\n",
       "    </tr>\n",
       "    <tr>\n",
       "      <th>25%</th>\n",
       "      <td>1.000000</td>\n",
       "      <td>2017-04-02 12:00:00</td>\n",
       "      <td>6.000000</td>\n",
       "      <td>-58.476218</td>\n",
       "      <td>-34.643689</td>\n",
       "    </tr>\n",
       "    <tr>\n",
       "      <th>50%</th>\n",
       "      <td>1.000000</td>\n",
       "      <td>2018-07-12 12:00:00</td>\n",
       "      <td>11.000000</td>\n",
       "      <td>-58.444513</td>\n",
       "      <td>-34.622928</td>\n",
       "    </tr>\n",
       "    <tr>\n",
       "      <th>75%</th>\n",
       "      <td>1.000000</td>\n",
       "      <td>2020-01-04 06:00:00</td>\n",
       "      <td>17.250000</td>\n",
       "      <td>-58.401841</td>\n",
       "      <td>-34.596799</td>\n",
       "    </tr>\n",
       "    <tr>\n",
       "      <th>max</th>\n",
       "      <td>3.000000</td>\n",
       "      <td>2021-12-30 00:00:00</td>\n",
       "      <td>23.000000</td>\n",
       "      <td>-58.356082</td>\n",
       "      <td>-34.534654</td>\n",
       "    </tr>\n",
       "    <tr>\n",
       "      <th>std</th>\n",
       "      <td>0.179393</td>\n",
       "      <td>NaN</td>\n",
       "      <td>6.709834</td>\n",
       "      <td>0.046144</td>\n",
       "      <td>0.035289</td>\n",
       "    </tr>\n",
       "  </tbody>\n",
       "</table>\n",
       "</div>"
      ],
      "text/plain": [
       "       N_VICTIMAS                          FECHA        HORA    LONGITUD  \\\n",
       "count  696.000000                            696  696.000000  684.000000   \n",
       "mean     1.030172  2018-09-14 05:12:24.827586048   11.640805  -58.441545   \n",
       "min      1.000000            2016-01-01 00:00:00    0.000000  -58.529942   \n",
       "25%      1.000000            2017-04-02 12:00:00    6.000000  -58.476218   \n",
       "50%      1.000000            2018-07-12 12:00:00   11.000000  -58.444513   \n",
       "75%      1.000000            2020-01-04 06:00:00   17.250000  -58.401841   \n",
       "max      3.000000            2021-12-30 00:00:00   23.000000  -58.356082   \n",
       "std      0.179393                            NaN    6.709834    0.046144   \n",
       "\n",
       "          LATITUD  \n",
       "count  684.000000  \n",
       "mean   -34.619632  \n",
       "min    -34.705250  \n",
       "25%    -34.643689  \n",
       "50%    -34.622928  \n",
       "75%    -34.596799  \n",
       "max    -34.534654  \n",
       "std      0.035289  "
      ]
     },
     "execution_count": 23,
     "metadata": {},
     "output_type": "execute_result"
    }
   ],
   "source": [
    "df_h.describe()"
   ]
  },
  {
   "cell_type": "markdown",
   "metadata": {},
   "source": [
    "Analizamos valores NULOS"
   ]
  },
  {
   "cell_type": "code",
   "execution_count": 25,
   "metadata": {},
   "outputs": [
    {
     "data": {
      "text/plain": [
       "ID_HECHO             0\n",
       "N_VICTIMAS           0\n",
       "FECHA                0\n",
       "HORA                 0\n",
       "TIPO_DE_CALLE        0\n",
       "COMUNA               2\n",
       "XY (CABA)           14\n",
       "LONGITUD            12\n",
       "LATITUD             12\n",
       "VEHICULO_VICTIMA     9\n",
       "VEHICULO_ACUSADO    23\n",
       "dtype: int64"
      ]
     },
     "execution_count": 25,
     "metadata": {},
     "output_type": "execute_result"
    }
   ],
   "source": [
    "df_h.isnull().sum()"
   ]
  },
  {
   "cell_type": "markdown",
   "metadata": {},
   "source": [
    "Analizamos valores DUPLICADOS"
   ]
  },
  {
   "cell_type": "code",
   "execution_count": 33,
   "metadata": {},
   "outputs": [
    {
     "name": "stdout",
     "output_type": "stream",
     "text": [
      "ID_HECHO: 0\n",
      "N_VICTIMAS: 693\n",
      "FECHA: 98\n",
      "HORA: 672\n",
      "TIPO_DE_CALLE: 693\n",
      "COMUNA: 680\n",
      "XY (CABA): 90\n",
      "LONGITUD: 91\n",
      "LATITUD: 91\n",
      "VEHICULO_VICTIMA: 686\n",
      "VEHICULO_ACUSADO: 686\n"
     ]
    }
   ],
   "source": [
    "print('ID_HECHO:',df_h['ID_HECHO'].duplicated().sum())\n",
    "print('N_VICTIMAS:',df_h['N_VICTIMAS'].duplicated().sum())\n",
    "print('FECHA:',df_h['FECHA'].duplicated().sum())\n",
    "print('HORA:',df_h['HORA'].duplicated().sum())\n",
    "print('TIPO_DE_CALLE:',df_h['TIPO_DE_CALLE'].duplicated().sum())\n",
    "print('COMUNA:',df_h['COMUNA'].duplicated().sum())\n",
    "print('XY (CABA):',df_h['XY (CABA)'].duplicated().sum())\n",
    "print('LONGITUD:',df_h['LONGITUD'].duplicated().sum())\n",
    "print('LATITUD:',df_h['LATITUD'].duplicated().sum())\n",
    "print('VEHICULO_VICTIMA:',df_h['VEHICULO_VICTIMA'].duplicated().sum())\n",
    "print('VEHICULO_ACUSADO:',df_h['VEHICULO_ACUSADO'].duplicated().sum())"
   ]
  },
  {
   "cell_type": "markdown",
   "metadata": {},
   "source": [
    "Conclusión"
   ]
  },
  {
   "cell_type": "markdown",
   "metadata": {},
   "source": [
    "**Tabla de \"VICTIMAS\"**"
   ]
  },
  {
   "cell_type": "code",
   "execution_count": 35,
   "metadata": {},
   "outputs": [
    {
     "data": {
      "text/html": [
       "<div>\n",
       "<style scoped>\n",
       "    .dataframe tbody tr th:only-of-type {\n",
       "        vertical-align: middle;\n",
       "    }\n",
       "\n",
       "    .dataframe tbody tr th {\n",
       "        vertical-align: top;\n",
       "    }\n",
       "\n",
       "    .dataframe thead th {\n",
       "        text-align: right;\n",
       "    }\n",
       "</style>\n",
       "<table border=\"1\" class=\"dataframe\">\n",
       "  <thead>\n",
       "    <tr style=\"text-align: right;\">\n",
       "      <th></th>\n",
       "      <th>ID_HECHO</th>\n",
       "      <th>FECHA</th>\n",
       "      <th>ROL_VICTIMA</th>\n",
       "      <th>VEHICULO_VICTIMA</th>\n",
       "      <th>SEXO_VICTIMA</th>\n",
       "      <th>EDAD_VICTIMA</th>\n",
       "      <th>RANGO_ETARIO</th>\n",
       "    </tr>\n",
       "  </thead>\n",
       "  <tbody>\n",
       "    <tr>\n",
       "      <th>0</th>\n",
       "      <td>2016-0001</td>\n",
       "      <td>2016-01-01</td>\n",
       "      <td>CONDUCTOR</td>\n",
       "      <td>MOTO</td>\n",
       "      <td>MASCULINO</td>\n",
       "      <td>19.0</td>\n",
       "      <td>2) 18 a 29 años</td>\n",
       "    </tr>\n",
       "    <tr>\n",
       "      <th>1</th>\n",
       "      <td>2016-0002</td>\n",
       "      <td>2016-01-02</td>\n",
       "      <td>CONDUCTOR</td>\n",
       "      <td>AUTO</td>\n",
       "      <td>MASCULINO</td>\n",
       "      <td>70.0</td>\n",
       "      <td>6) 60 años o mas</td>\n",
       "    </tr>\n",
       "    <tr>\n",
       "      <th>2</th>\n",
       "      <td>2016-0003</td>\n",
       "      <td>2016-01-03</td>\n",
       "      <td>CONDUCTOR</td>\n",
       "      <td>MOTO</td>\n",
       "      <td>MASCULINO</td>\n",
       "      <td>30.0</td>\n",
       "      <td>3) 30 a 39 años</td>\n",
       "    </tr>\n",
       "    <tr>\n",
       "      <th>3</th>\n",
       "      <td>2016-0004</td>\n",
       "      <td>2016-01-10</td>\n",
       "      <td>CONDUCTOR</td>\n",
       "      <td>MOTO</td>\n",
       "      <td>MASCULINO</td>\n",
       "      <td>18.0</td>\n",
       "      <td>2) 18 a 29 años</td>\n",
       "    </tr>\n",
       "    <tr>\n",
       "      <th>4</th>\n",
       "      <td>2016-0005</td>\n",
       "      <td>2016-01-21</td>\n",
       "      <td>CONDUCTOR</td>\n",
       "      <td>MOTO</td>\n",
       "      <td>MASCULINO</td>\n",
       "      <td>29.0</td>\n",
       "      <td>2) 18 a 29 años</td>\n",
       "    </tr>\n",
       "  </tbody>\n",
       "</table>\n",
       "</div>"
      ],
      "text/plain": [
       "    ID_HECHO      FECHA ROL_VICTIMA VEHICULO_VICTIMA SEXO_VICTIMA  \\\n",
       "0  2016-0001 2016-01-01   CONDUCTOR             MOTO    MASCULINO   \n",
       "1  2016-0002 2016-01-02   CONDUCTOR             AUTO    MASCULINO   \n",
       "2  2016-0003 2016-01-03   CONDUCTOR             MOTO    MASCULINO   \n",
       "3  2016-0004 2016-01-10   CONDUCTOR             MOTO    MASCULINO   \n",
       "4  2016-0005 2016-01-21   CONDUCTOR             MOTO    MASCULINO   \n",
       "\n",
       "   EDAD_VICTIMA      RANGO_ETARIO  \n",
       "0          19.0   2) 18 a 29 años  \n",
       "1          70.0  6) 60 años o mas  \n",
       "2          30.0   3) 30 a 39 años  \n",
       "3          18.0   2) 18 a 29 años  \n",
       "4          29.0   2) 18 a 29 años  "
      ]
     },
     "execution_count": 35,
     "metadata": {},
     "output_type": "execute_result"
    }
   ],
   "source": [
    "#Visualizamos las primeras filas\n",
    "df_v.head()"
   ]
  },
  {
   "cell_type": "code",
   "execution_count": 36,
   "metadata": {},
   "outputs": [
    {
     "data": {
      "text/html": [
       "<div>\n",
       "<style scoped>\n",
       "    .dataframe tbody tr th:only-of-type {\n",
       "        vertical-align: middle;\n",
       "    }\n",
       "\n",
       "    .dataframe tbody tr th {\n",
       "        vertical-align: top;\n",
       "    }\n",
       "\n",
       "    .dataframe thead th {\n",
       "        text-align: right;\n",
       "    }\n",
       "</style>\n",
       "<table border=\"1\" class=\"dataframe\">\n",
       "  <thead>\n",
       "    <tr style=\"text-align: right;\">\n",
       "      <th></th>\n",
       "      <th>ID_HECHO</th>\n",
       "      <th>FECHA</th>\n",
       "      <th>ROL_VICTIMA</th>\n",
       "      <th>VEHICULO_VICTIMA</th>\n",
       "      <th>SEXO_VICTIMA</th>\n",
       "      <th>EDAD_VICTIMA</th>\n",
       "      <th>RANGO_ETARIO</th>\n",
       "    </tr>\n",
       "  </thead>\n",
       "  <tbody>\n",
       "    <tr>\n",
       "      <th>712</th>\n",
       "      <td>2021-0092</td>\n",
       "      <td>2021-12-12</td>\n",
       "      <td>PEATON</td>\n",
       "      <td>PEATON</td>\n",
       "      <td>FEMENINO</td>\n",
       "      <td>50.0</td>\n",
       "      <td>5) 50 a 59 años</td>\n",
       "    </tr>\n",
       "    <tr>\n",
       "      <th>713</th>\n",
       "      <td>2021-0093</td>\n",
       "      <td>2021-12-13</td>\n",
       "      <td>PASAJERO_ACOMPAÑANTE</td>\n",
       "      <td>MOTO</td>\n",
       "      <td>FEMENINO</td>\n",
       "      <td>18.0</td>\n",
       "      <td>2) 18 a 29 años</td>\n",
       "    </tr>\n",
       "    <tr>\n",
       "      <th>714</th>\n",
       "      <td>2021-0094</td>\n",
       "      <td>2021-12-20</td>\n",
       "      <td>PASAJERO_ACOMPAÑANTE</td>\n",
       "      <td>MOTO</td>\n",
       "      <td>FEMENINO</td>\n",
       "      <td>43.0</td>\n",
       "      <td>4) 45 a 49 años</td>\n",
       "    </tr>\n",
       "    <tr>\n",
       "      <th>715</th>\n",
       "      <td>2021-0095</td>\n",
       "      <td>2021-12-30</td>\n",
       "      <td>CONDUCTOR</td>\n",
       "      <td>MOTO</td>\n",
       "      <td>MASCULINO</td>\n",
       "      <td>27.0</td>\n",
       "      <td>2) 18 a 29 años</td>\n",
       "    </tr>\n",
       "    <tr>\n",
       "      <th>716</th>\n",
       "      <td>2021-0096</td>\n",
       "      <td>2021-12-15</td>\n",
       "      <td>CONDUCTOR</td>\n",
       "      <td>AUTO</td>\n",
       "      <td>MASCULINO</td>\n",
       "      <td>60.0</td>\n",
       "      <td>6) 60 años o mas</td>\n",
       "    </tr>\n",
       "  </tbody>\n",
       "</table>\n",
       "</div>"
      ],
      "text/plain": [
       "      ID_HECHO      FECHA           ROL_VICTIMA VEHICULO_VICTIMA SEXO_VICTIMA  \\\n",
       "712  2021-0092 2021-12-12                PEATON           PEATON     FEMENINO   \n",
       "713  2021-0093 2021-12-13  PASAJERO_ACOMPAÑANTE             MOTO     FEMENINO   \n",
       "714  2021-0094 2021-12-20  PASAJERO_ACOMPAÑANTE             MOTO     FEMENINO   \n",
       "715  2021-0095 2021-12-30             CONDUCTOR             MOTO    MASCULINO   \n",
       "716  2021-0096 2021-12-15             CONDUCTOR             AUTO    MASCULINO   \n",
       "\n",
       "     EDAD_VICTIMA      RANGO_ETARIO  \n",
       "712          50.0   5) 50 a 59 años  \n",
       "713          18.0   2) 18 a 29 años  \n",
       "714          43.0   4) 45 a 49 años  \n",
       "715          27.0   2) 18 a 29 años  \n",
       "716          60.0  6) 60 años o mas  "
      ]
     },
     "execution_count": 36,
     "metadata": {},
     "output_type": "execute_result"
    }
   ],
   "source": [
    "#Visualizamos las últimas filas\n",
    "df_v.tail()"
   ]
  },
  {
   "cell_type": "code",
   "execution_count": 37,
   "metadata": {},
   "outputs": [
    {
     "data": {
      "text/html": [
       "<div>\n",
       "<style scoped>\n",
       "    .dataframe tbody tr th:only-of-type {\n",
       "        vertical-align: middle;\n",
       "    }\n",
       "\n",
       "    .dataframe tbody tr th {\n",
       "        vertical-align: top;\n",
       "    }\n",
       "\n",
       "    .dataframe thead th {\n",
       "        text-align: right;\n",
       "    }\n",
       "</style>\n",
       "<table border=\"1\" class=\"dataframe\">\n",
       "  <thead>\n",
       "    <tr style=\"text-align: right;\">\n",
       "      <th></th>\n",
       "      <th>FECHA</th>\n",
       "      <th>EDAD_VICTIMA</th>\n",
       "    </tr>\n",
       "  </thead>\n",
       "  <tbody>\n",
       "    <tr>\n",
       "      <th>count</th>\n",
       "      <td>717</td>\n",
       "      <td>664.000000</td>\n",
       "    </tr>\n",
       "    <tr>\n",
       "      <th>mean</th>\n",
       "      <td>2018-09-09 01:36:24.100418304</td>\n",
       "      <td>42.167169</td>\n",
       "    </tr>\n",
       "    <tr>\n",
       "      <th>min</th>\n",
       "      <td>2016-01-01 00:00:00</td>\n",
       "      <td>1.000000</td>\n",
       "    </tr>\n",
       "    <tr>\n",
       "      <th>25%</th>\n",
       "      <td>2017-04-01 00:00:00</td>\n",
       "      <td>27.000000</td>\n",
       "    </tr>\n",
       "    <tr>\n",
       "      <th>50%</th>\n",
       "      <td>2018-07-07 00:00:00</td>\n",
       "      <td>37.000000</td>\n",
       "    </tr>\n",
       "    <tr>\n",
       "      <th>75%</th>\n",
       "      <td>2019-12-18 00:00:00</td>\n",
       "      <td>56.250000</td>\n",
       "    </tr>\n",
       "    <tr>\n",
       "      <th>max</th>\n",
       "      <td>2021-12-30 00:00:00</td>\n",
       "      <td>95.000000</td>\n",
       "    </tr>\n",
       "    <tr>\n",
       "      <th>std</th>\n",
       "      <td>NaN</td>\n",
       "      <td>19.788034</td>\n",
       "    </tr>\n",
       "  </tbody>\n",
       "</table>\n",
       "</div>"
      ],
      "text/plain": [
       "                               FECHA  EDAD_VICTIMA\n",
       "count                            717    664.000000\n",
       "mean   2018-09-09 01:36:24.100418304     42.167169\n",
       "min              2016-01-01 00:00:00      1.000000\n",
       "25%              2017-04-01 00:00:00     27.000000\n",
       "50%              2018-07-07 00:00:00     37.000000\n",
       "75%              2019-12-18 00:00:00     56.250000\n",
       "max              2021-12-30 00:00:00     95.000000\n",
       "std                              NaN     19.788034"
      ]
     },
     "execution_count": 37,
     "metadata": {},
     "output_type": "execute_result"
    }
   ],
   "source": [
    "df_v.describe()"
   ]
  },
  {
   "cell_type": "markdown",
   "metadata": {},
   "source": [
    "Analizamos valores NULOS"
   ]
  },
  {
   "cell_type": "code",
   "execution_count": 38,
   "metadata": {},
   "outputs": [
    {
     "data": {
      "text/plain": [
       "ID_HECHO             0\n",
       "FECHA                0\n",
       "ROL_VICTIMA         11\n",
       "VEHICULO_VICTIMA     9\n",
       "SEXO_VICTIMA         6\n",
       "EDAD_VICTIMA        53\n",
       "RANGO_ETARIO        53\n",
       "dtype: int64"
      ]
     },
     "execution_count": 38,
     "metadata": {},
     "output_type": "execute_result"
    }
   ],
   "source": [
    "df_v.isnull().sum()"
   ]
  },
  {
   "cell_type": "markdown",
   "metadata": {},
   "source": [
    "Analizamos valores DUPLICADOS"
   ]
  },
  {
   "cell_type": "code",
   "execution_count": 39,
   "metadata": {},
   "outputs": [
    {
     "name": "stdout",
     "output_type": "stream",
     "text": [
      "ID_HECHO: 21\n",
      "FECHA: 119\n",
      "ROL_VICTIMA: 712\n",
      "VEHICULO_VICTIMA: 709\n",
      "SEXO_VICTIMA: 714\n",
      "EDAD_VICTIMA: 631\n",
      "RANGO_ETARIO: 710\n"
     ]
    }
   ],
   "source": [
    "print('ID_HECHO:',df_v['ID_HECHO'].duplicated().sum())\n",
    "print('FECHA:',df_v['FECHA'].duplicated().sum())\n",
    "print('ROL_VICTIMA:',df_v['ROL_VICTIMA'].duplicated().sum())\n",
    "print('VEHICULO_VICTIMA:',df_v['VEHICULO_VICTIMA'].duplicated().sum())\n",
    "print('SEXO_VICTIMA:',df_v['SEXO_VICTIMA'].duplicated().sum())\n",
    "print('EDAD_VICTIMA:',df_v['EDAD_VICTIMA'].duplicated().sum())\n",
    "print('RANGO_ETARIO:',df_v['RANGO_ETARIO'].duplicated().sum())"
   ]
  },
  {
   "cell_type": "markdown",
   "metadata": {},
   "source": [
    "Conclusión"
   ]
  },
  {
   "cell_type": "markdown",
   "metadata": {},
   "source": [
    "**OUTLIERS**"
   ]
  },
  {
   "cell_type": "code",
   "execution_count": 51,
   "metadata": {},
   "outputs": [
    {
     "data": {
      "image/png": "[encoded data removed]",
      "text/plain": [
       "<Figure size 1000x400 with 3 Axes>"
      ]
     },
     "metadata": {},
     "output_type": "display_data"
    }
   ],
   "source": [
    "# Ajustar el tamaño de la figura\n",
    "plt.figure(figsize=(10, 4))\n",
    "\n",
    "# Crear subplots para los gráficos \n",
    "plt.subplot(1, 5, 1) \n",
    "sns.boxplot(data=df_h, y='N_VICTIMAS', color = \"#FA8072\")\n",
    "plt.ylabel('Número de Víctimas')\n",
    "\n",
    "plt.subplot(1, 5, 2) \n",
    "sns.boxplot(data=df_h, y='FECHA', color = \"#EFB810\")\n",
    "plt.ylabel('Fechas')\n",
    "\n",
    "plt.subplot(1, 5, 3) \n",
    "sns.boxplot(data=df_h, y='HORA', color = \"#87CEEB\")\n",
    "plt.ylabel('Horas')\n",
    "\n",
    "# Ajustar espaciado entre subplots\n",
    "plt.tight_layout()\n",
    "\n",
    "plt.show()\n"
   ]
  },
  {
   "cell_type": "code",
   "execution_count": 52,
   "metadata": {},
   "outputs": [
    {
     "data": {
      "image/png": "[encoded data removed]",
      "text/plain": [
       "<Figure size 600x500 with 2 Axes>"
      ]
     },
     "metadata": {},
     "output_type": "display_data"
    }
   ],
   "source": [
    "# Generamos un mapa de calor con las correlaciones de los todos los datos que contengan números \n",
    "dataNumerica = df_h.select_dtypes(include=['number']) \n",
    "corr = dataNumerica.corr().round(2)\n",
    "\n",
    "plt.figure(figsize=(6,5))\n",
    "sns.heatmap(corr, cmap=\"viridis\", annot=True)\n",
    "plt.title('Mapa de Correlación - Variables numéricas')\n",
    "plt.show()"
   ]
  },
  {
   "cell_type": "code",
   "execution_count": 54,
   "metadata": {},
   "outputs": [
    {
     "name": "stderr",
     "output_type": "stream",
     "text": [
      "C:\\Users\\Rafael Farfan\\AppData\\Local\\Temp\\ipykernel_19108\\4141307061.py:6: FutureWarning: \n",
      "\n",
      "Passing `palette` without assigning `hue` is deprecated and will be removed in v0.14.0. Assign the `x` variable to `hue` and set `legend=False` for the same effect.\n",
      "\n",
      "  sns.countplot(df_filtrado, x='N_VICTIMAS', palette=\"Paired\")\n"
     ]
    },
    {
     "data": {
      "image/png": "[encoded data removed]",
      "text/plain": [
       "<Figure size 1000x400 with 1 Axes>"
      ]
     },
     "metadata": {},
     "output_type": "display_data"
    }
   ],
   "source": [
    "plt.figure(figsize=(10, 4))\n",
    "# se filtran los valores sin datos o nulos \n",
    "df_filtrado = df_h[df_h[\"N_VICTIMAS\"] != 0]\n",
    "\n",
    "#Se cuentan los datos de la columna y se calcula la frecuencia en que se distribuye\n",
    "sns.countplot(df_filtrado, x='N_VICTIMAS', palette=\"Paired\")\n",
    "\n",
    "plt.ylabel(\"Frecuencia de siniestros viales\")\n",
    "plt.xlabel(\"Cantidad de víctimas fatales\")\n",
    "plt.title(\"Histograma de distribución de víctimas fatales por siniestro\")\n",
    "\n",
    "plt.show()"
   ]
  },
  {
   "cell_type": "markdown",
   "metadata": {},
   "source": [
    "COMUNAS"
   ]
  },
  {
   "cell_type": "code",
   "execution_count": 9,
   "metadata": {},
   "outputs": [],
   "source": [
    "#Inicializamos CRS\n",
    "\n",
    "crs={'init':'epsg:4326'}"
   ]
  },
  {
   "cell_type": "code",
   "execution_count": 12,
   "metadata": {},
   "outputs": [],
   "source": [
    "\n",
    "#Definimos la geometría según nuestro dataset\n",
    "geometry=[Point(xy) for xy in zip(df_h['LONGITUD'], df_h['LATITUD'])]"
   ]
  },
  {
   "cell_type": "code",
   "execution_count": 13,
   "metadata": {},
   "outputs": [
    {
     "name": "stderr",
     "output_type": "stream",
     "text": [
      "c:\\Users\\Rafael Farfan\\AppData\\Local\\Programs\\Python\\Python312\\Lib\\site-packages\\pyproj\\crs\\crs.py:141: FutureWarning: '+init=<authority>:<code>' syntax is deprecated. '<authority>:<code>' is the preferred initialization method. When making the change, be mindful of axis order changes: https://pyproj4.github.io/pyproj/stable/gotchas.html#axis-order-changes-in-proj-6\n",
      "  in_crs_string = _prepare_from_proj_string(in_crs_string)\n"
     ]
    },
    {
     "data": {
      "text/plain": [
       "<Axes: >"
      ]
     },
     "execution_count": 13,
     "metadata": {},
     "output_type": "execute_result"
    },
    {
     "data": {
      "image/png": "[encoded data removed]",
      "text/plain": [
       "<Figure size 640x480 with 1 Axes>"
      ]
     },
     "metadata": {},
     "output_type": "display_data"
    }
   ],
   "source": [
    "#Ua vez que tenemos el sistema de referencia decoordenadas y la geometría; se procede a la carga de los datos\n",
    "geodata=gpd.GeoDataFrame(df_h,crs=crs, geometry=geometry)\n",
    "\n",
    "#Se imprime el resultante que luego será introducido en un mapa\n",
    "geodata.plot()"
   ]
  },
  {
   "cell_type": "code",
   "execution_count": null,
   "metadata": {},
   "outputs": [],
   "source": [
    "comunas = gpd.read_file(r'./dataset/comunas.zip')\n",
    "comunas"
   ]
  },
  {
   "cell_type": "code",
   "execution_count": 8,
   "metadata": {},
   "outputs": [
    {
     "data": {
      "text/plain": [
       "<Axes: >"
      ]
     },
     "execution_count": 8,
     "metadata": {},
     "output_type": "execute_result"
    },
    {
     "data": {
      "image/png": "[encoded data removed]",
      "text/plain": [
       "<Figure size 640x480 with 1 Axes>"
      ]
     },
     "metadata": {},
     "output_type": "display_data"
    }
   ],
   "source": [
    "comunas.plot()"
   ]
  },
  {
   "cell_type": "markdown",
   "metadata": {},
   "source": [
    "Conclusión"
   ]
  },
  {
   "cell_type": "markdown",
   "metadata": {},
   "source": []
  },
  {
   "cell_type": "markdown",
   "metadata": {},
   "source": [
    "VARIABLES CATEGÓRICAS"
   ]
  }
 ],
 "metadata": {
  "kernelspec": {
   "display_name": "Python 3",
   "language": "python",
   "name": "python3"
  },
  "language_info": {
   "codemirror_mode": {
    "name": "ipython",
    "version": 3
   },
   "file_extension": ".py",
   "mimetype": "text/x-python",
   "name": "python",
   "nbconvert_exporter": "python",
   "pygments_lexer": "ipython3",
   "version": "3.12.2"
  }
 },
 "nbformat": 4,
 "nbformat_minor": 2
}
