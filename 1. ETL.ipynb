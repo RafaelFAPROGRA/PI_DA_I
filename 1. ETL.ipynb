{
 "cells": [
  {
   "cell_type": "markdown",
   "metadata": {},
   "source": [
    "# ETL (Extraction, Transform and Load) "
   ]
  },
  {
   "cell_type": "code",
   "execution_count": 21,
   "metadata": {},
   "outputs": [],
   "source": [
    "# Importar librerías\n",
    "\n",
    "import pandas as pd\n",
    "from summarytools import dfSummary\n",
    "import numpy as np\n",
    "import matplotlib.pyplot as plt\n",
    "import seaborn as sns"
   ]
  },
  {
   "cell_type": "markdown",
   "metadata": {},
   "source": [
    "### 1. Extraction"
   ]
  },
  {
   "cell_type": "code",
   "execution_count": 2,
   "metadata": {},
   "outputs": [],
   "source": [
    "# Cargar archivos que se van a utilizar\n",
    "\n",
    "df_hechos=pd.read_excel('./dataset/homicidios.xlsx', sheet_name='HECHOS', na_values='SD')\n",
    "df_victimas=pd.read_excel('./dataset/homicidios.xlsx', sheet_name='VICTIMAS', na_values='SD')"
   ]
  },
  {
   "cell_type": "markdown",
   "metadata": {},
   "source": [
    "Al cargar los DataFrames con el parámetro 'na_values' para las palabras 'SD' se muestren como valores nulos, intentaremos hacer la prueba si funcionó correctamente. En este caso, si visualizamos el DataSet, El que tiene **\"ID=2016-0151\"** tenía una dimensión **\"LUGAR_DE_HECHO == SD\"**. Por consiguiente, se valida de que fue transformado correctamente a NaN."
   ]
  },
  {
   "cell_type": "code",
   "execution_count": 3,
   "metadata": {},
   "outputs": [
    {
     "data": {
      "text/html": [
       "<div>\n",
       "<style scoped>\n",
       "    .dataframe tbody tr th:only-of-type {\n",
       "        vertical-align: middle;\n",
       "    }\n",
       "\n",
       "    .dataframe tbody tr th {\n",
       "        vertical-align: top;\n",
       "    }\n",
       "\n",
       "    .dataframe thead th {\n",
       "        text-align: right;\n",
       "    }\n",
       "</style>\n",
       "<table border=\"1\" class=\"dataframe\">\n",
       "  <thead>\n",
       "    <tr style=\"text-align: right;\">\n",
       "      <th></th>\n",
       "      <th>ID</th>\n",
       "      <th>N_VICTIMAS</th>\n",
       "      <th>FECHA</th>\n",
       "      <th>AAAA</th>\n",
       "      <th>MM</th>\n",
       "      <th>DD</th>\n",
       "      <th>HORA</th>\n",
       "      <th>HH</th>\n",
       "      <th>LUGAR_DEL_HECHO</th>\n",
       "      <th>TIPO_DE_CALLE</th>\n",
       "      <th>...</th>\n",
       "      <th>Altura</th>\n",
       "      <th>Cruce</th>\n",
       "      <th>Dirección Normalizada</th>\n",
       "      <th>COMUNA</th>\n",
       "      <th>XY (CABA)</th>\n",
       "      <th>pos x</th>\n",
       "      <th>pos y</th>\n",
       "      <th>PARTICIPANTES</th>\n",
       "      <th>VICTIMA</th>\n",
       "      <th>ACUSADO</th>\n",
       "    </tr>\n",
       "  </thead>\n",
       "  <tbody>\n",
       "    <tr>\n",
       "      <th>119</th>\n",
       "      <td>2016-0151</td>\n",
       "      <td>1</td>\n",
       "      <td>2016-11-18</td>\n",
       "      <td>2016</td>\n",
       "      <td>11</td>\n",
       "      <td>18</td>\n",
       "      <td>20:35:00</td>\n",
       "      <td>20.0</td>\n",
       "      <td>NaN</td>\n",
       "      <td>CALLE</td>\n",
       "      <td>...</td>\n",
       "      <td>NaN</td>\n",
       "      <td>NaN</td>\n",
       "      <td>NaN</td>\n",
       "      <td>0</td>\n",
       "      <td>Point (. .)</td>\n",
       "      <td>.</td>\n",
       "      <td>.</td>\n",
       "      <td>PEATON-SD</td>\n",
       "      <td>PEATON</td>\n",
       "      <td>NaN</td>\n",
       "    </tr>\n",
       "  </tbody>\n",
       "</table>\n",
       "<p>1 rows × 21 columns</p>\n",
       "</div>"
      ],
      "text/plain": [
       "            ID  N_VICTIMAS      FECHA  AAAA  MM  DD      HORA    HH  \\\n",
       "119  2016-0151           1 2016-11-18  2016  11  18  20:35:00  20.0   \n",
       "\n",
       "    LUGAR_DEL_HECHO TIPO_DE_CALLE  ... Altura  Cruce Dirección Normalizada  \\\n",
       "119             NaN         CALLE  ...    NaN    NaN                   NaN   \n",
       "\n",
       "    COMUNA    XY (CABA) pos x pos y PARTICIPANTES VICTIMA ACUSADO  \n",
       "119      0  Point (. .)     .     .     PEATON-SD  PEATON     NaN  \n",
       "\n",
       "[1 rows x 21 columns]"
      ]
     },
     "execution_count": 3,
     "metadata": {},
     "output_type": "execute_result"
    }
   ],
   "source": [
    "df_hechos[df_hechos['ID'] == '2016-0151']"
   ]
  },
  {
   "cell_type": "markdown",
   "metadata": {},
   "source": [
    "### 2. Transformation"
   ]
  },
  {
   "cell_type": "markdown",
   "metadata": {},
   "source": [
    "**Tabla de \"HECHOS\"**"
   ]
  },
  {
   "cell_type": "code",
   "execution_count": 4,
   "metadata": {},
   "outputs": [
    {
     "data": {
      "text/html": [
       "<div>\n",
       "<style scoped>\n",
       "    .dataframe tbody tr th:only-of-type {\n",
       "        vertical-align: middle;\n",
       "    }\n",
       "\n",
       "    .dataframe tbody tr th {\n",
       "        vertical-align: top;\n",
       "    }\n",
       "\n",
       "    .dataframe thead th {\n",
       "        text-align: right;\n",
       "    }\n",
       "</style>\n",
       "<table border=\"1\" class=\"dataframe\">\n",
       "  <thead>\n",
       "    <tr style=\"text-align: right;\">\n",
       "      <th></th>\n",
       "      <th>ID</th>\n",
       "      <th>N_VICTIMAS</th>\n",
       "      <th>FECHA</th>\n",
       "      <th>AAAA</th>\n",
       "      <th>MM</th>\n",
       "      <th>DD</th>\n",
       "      <th>HORA</th>\n",
       "      <th>HH</th>\n",
       "      <th>LUGAR_DEL_HECHO</th>\n",
       "      <th>TIPO_DE_CALLE</th>\n",
       "      <th>...</th>\n",
       "      <th>Altura</th>\n",
       "      <th>Cruce</th>\n",
       "      <th>Dirección Normalizada</th>\n",
       "      <th>COMUNA</th>\n",
       "      <th>XY (CABA)</th>\n",
       "      <th>pos x</th>\n",
       "      <th>pos y</th>\n",
       "      <th>PARTICIPANTES</th>\n",
       "      <th>VICTIMA</th>\n",
       "      <th>ACUSADO</th>\n",
       "    </tr>\n",
       "  </thead>\n",
       "  <tbody>\n",
       "    <tr>\n",
       "      <th>0</th>\n",
       "      <td>2016-0001</td>\n",
       "      <td>1</td>\n",
       "      <td>2016-01-01</td>\n",
       "      <td>2016</td>\n",
       "      <td>1</td>\n",
       "      <td>1</td>\n",
       "      <td>04:00:00</td>\n",
       "      <td>4.0</td>\n",
       "      <td>AV PIEDRA BUENA Y AV FERNANDEZ DE LA CRUZ</td>\n",
       "      <td>AVENIDA</td>\n",
       "      <td>...</td>\n",
       "      <td>NaN</td>\n",
       "      <td>FERNANDEZ DE LA CRUZ, F., GRAL. AV.</td>\n",
       "      <td>PIEDRA BUENA AV. y FERNANDEZ DE LA CRUZ, F., G...</td>\n",
       "      <td>8</td>\n",
       "      <td>Point (98896.78238426 93532.43437792)</td>\n",
       "      <td>-58.47533969</td>\n",
       "      <td>-34.68757022</td>\n",
       "      <td>MOTO-AUTO</td>\n",
       "      <td>MOTO</td>\n",
       "      <td>AUTO</td>\n",
       "    </tr>\n",
       "    <tr>\n",
       "      <th>1</th>\n",
       "      <td>2016-0002</td>\n",
       "      <td>1</td>\n",
       "      <td>2016-01-02</td>\n",
       "      <td>2016</td>\n",
       "      <td>1</td>\n",
       "      <td>2</td>\n",
       "      <td>01:15:00</td>\n",
       "      <td>1.0</td>\n",
       "      <td>AV GRAL PAZ  Y AV DE LOS CORRALES</td>\n",
       "      <td>GRAL PAZ</td>\n",
       "      <td>...</td>\n",
       "      <td>NaN</td>\n",
       "      <td>DE LOS CORRALES AV.</td>\n",
       "      <td>PAZ, GRAL. AV. y DE LOS CORRALES AV.</td>\n",
       "      <td>9</td>\n",
       "      <td>Point (95832.05571093 95505.41641999)</td>\n",
       "      <td>-58.50877521</td>\n",
       "      <td>-34.66977709</td>\n",
       "      <td>AUTO-PASAJEROS</td>\n",
       "      <td>AUTO</td>\n",
       "      <td>PASAJEROS</td>\n",
       "    </tr>\n",
       "    <tr>\n",
       "      <th>2</th>\n",
       "      <td>2016-0003</td>\n",
       "      <td>1</td>\n",
       "      <td>2016-01-03</td>\n",
       "      <td>2016</td>\n",
       "      <td>1</td>\n",
       "      <td>3</td>\n",
       "      <td>07:00:00</td>\n",
       "      <td>7.0</td>\n",
       "      <td>AV ENTRE RIOS 2034</td>\n",
       "      <td>AVENIDA</td>\n",
       "      <td>...</td>\n",
       "      <td>2034.0</td>\n",
       "      <td>NaN</td>\n",
       "      <td>ENTRE RIOS AV. 2034</td>\n",
       "      <td>1</td>\n",
       "      <td>Point (106684.29090040 99706.57687843)</td>\n",
       "      <td>-58.39040293</td>\n",
       "      <td>-34.63189362</td>\n",
       "      <td>MOTO-AUTO</td>\n",
       "      <td>MOTO</td>\n",
       "      <td>AUTO</td>\n",
       "    </tr>\n",
       "    <tr>\n",
       "      <th>3</th>\n",
       "      <td>2016-0004</td>\n",
       "      <td>1</td>\n",
       "      <td>2016-01-10</td>\n",
       "      <td>2016</td>\n",
       "      <td>1</td>\n",
       "      <td>10</td>\n",
       "      <td>00:00:00</td>\n",
       "      <td>0.0</td>\n",
       "      <td>AV LARRAZABAL Y GRAL VILLEGAS CONRADO</td>\n",
       "      <td>AVENIDA</td>\n",
       "      <td>...</td>\n",
       "      <td>NaN</td>\n",
       "      <td>VILLEGAS, CONRADO, GRAL.</td>\n",
       "      <td>LARRAZABAL AV. y VILLEGAS, CONRADO, GRAL.</td>\n",
       "      <td>8</td>\n",
       "      <td>Point (99840.65224780 94269.16534422)</td>\n",
       "      <td>-58.46503904</td>\n",
       "      <td>-34.68092974</td>\n",
       "      <td>MOTO-SD</td>\n",
       "      <td>MOTO</td>\n",
       "      <td>NaN</td>\n",
       "    </tr>\n",
       "    <tr>\n",
       "      <th>4</th>\n",
       "      <td>2016-0005</td>\n",
       "      <td>1</td>\n",
       "      <td>2016-01-21</td>\n",
       "      <td>2016</td>\n",
       "      <td>1</td>\n",
       "      <td>21</td>\n",
       "      <td>05:20:00</td>\n",
       "      <td>5.0</td>\n",
       "      <td>AV SAN JUAN Y PRESIDENTE LUIS SAENZ PEÑA</td>\n",
       "      <td>AVENIDA</td>\n",
       "      <td>...</td>\n",
       "      <td>NaN</td>\n",
       "      <td>SAENZ PE?A, LUIS, PRES.</td>\n",
       "      <td>SAN JUAN AV. y SAENZ PEÃ‘A, LUIS, PRES.</td>\n",
       "      <td>1</td>\n",
       "      <td>Point (106980.32827929 100752.16915795)</td>\n",
       "      <td>-58.38718297</td>\n",
       "      <td>-34.62246630</td>\n",
       "      <td>MOTO-PASAJEROS</td>\n",
       "      <td>MOTO</td>\n",
       "      <td>PASAJEROS</td>\n",
       "    </tr>\n",
       "  </tbody>\n",
       "</table>\n",
       "<p>5 rows × 21 columns</p>\n",
       "</div>"
      ],
      "text/plain": [
       "          ID  N_VICTIMAS      FECHA  AAAA  MM  DD      HORA   HH  \\\n",
       "0  2016-0001           1 2016-01-01  2016   1   1  04:00:00  4.0   \n",
       "1  2016-0002           1 2016-01-02  2016   1   2  01:15:00  1.0   \n",
       "2  2016-0003           1 2016-01-03  2016   1   3  07:00:00  7.0   \n",
       "3  2016-0004           1 2016-01-10  2016   1  10  00:00:00  0.0   \n",
       "4  2016-0005           1 2016-01-21  2016   1  21  05:20:00  5.0   \n",
       "\n",
       "                             LUGAR_DEL_HECHO TIPO_DE_CALLE  ...  Altura  \\\n",
       "0  AV PIEDRA BUENA Y AV FERNANDEZ DE LA CRUZ       AVENIDA  ...     NaN   \n",
       "1          AV GRAL PAZ  Y AV DE LOS CORRALES      GRAL PAZ  ...     NaN   \n",
       "2                         AV ENTRE RIOS 2034       AVENIDA  ...  2034.0   \n",
       "3      AV LARRAZABAL Y GRAL VILLEGAS CONRADO       AVENIDA  ...     NaN   \n",
       "4  AV SAN JUAN Y PRESIDENTE LUIS SAENZ PEÑA        AVENIDA  ...     NaN   \n",
       "\n",
       "                                 Cruce  \\\n",
       "0  FERNANDEZ DE LA CRUZ, F., GRAL. AV.   \n",
       "1                  DE LOS CORRALES AV.   \n",
       "2                                  NaN   \n",
       "3             VILLEGAS, CONRADO, GRAL.   \n",
       "4              SAENZ PE?A, LUIS, PRES.   \n",
       "\n",
       "                               Dirección Normalizada COMUNA  \\\n",
       "0  PIEDRA BUENA AV. y FERNANDEZ DE LA CRUZ, F., G...      8   \n",
       "1               PAZ, GRAL. AV. y DE LOS CORRALES AV.      9   \n",
       "2                                ENTRE RIOS AV. 2034      1   \n",
       "3          LARRAZABAL AV. y VILLEGAS, CONRADO, GRAL.      8   \n",
       "4            SAN JUAN AV. y SAENZ PEÃ‘A, LUIS, PRES.      1   \n",
       "\n",
       "                                 XY (CABA)         pos x         pos y  \\\n",
       "0    Point (98896.78238426 93532.43437792)  -58.47533969  -34.68757022   \n",
       "1    Point (95832.05571093 95505.41641999)  -58.50877521  -34.66977709   \n",
       "2   Point (106684.29090040 99706.57687843)  -58.39040293  -34.63189362   \n",
       "3    Point (99840.65224780 94269.16534422)  -58.46503904  -34.68092974   \n",
       "4  Point (106980.32827929 100752.16915795)  -58.38718297  -34.62246630   \n",
       "\n",
       "    PARTICIPANTES VICTIMA    ACUSADO  \n",
       "0       MOTO-AUTO    MOTO       AUTO  \n",
       "1  AUTO-PASAJEROS    AUTO  PASAJEROS  \n",
       "2       MOTO-AUTO    MOTO       AUTO  \n",
       "3         MOTO-SD    MOTO        NaN  \n",
       "4  MOTO-PASAJEROS    MOTO  PASAJEROS  \n",
       "\n",
       "[5 rows x 21 columns]"
      ]
     },
     "execution_count": 4,
     "metadata": {},
     "output_type": "execute_result"
    }
   ],
   "source": [
    "#Visualizamos las prim\n",
    "df_hechos.head()"
   ]
  },
  {
   "cell_type": "code",
   "execution_count": 5,
   "metadata": {},
   "outputs": [
    {
     "name": "stdout",
     "output_type": "stream",
     "text": [
      "<class 'pandas.core.frame.DataFrame'>\n",
      "RangeIndex: 696 entries, 0 to 695\n",
      "Data columns (total 21 columns):\n",
      " #   Column                 Non-Null Count  Dtype         \n",
      "---  ------                 --------------  -----         \n",
      " 0   ID                     696 non-null    object        \n",
      " 1   N_VICTIMAS             696 non-null    int64         \n",
      " 2   FECHA                  696 non-null    datetime64[ns]\n",
      " 3   AAAA                   696 non-null    int64         \n",
      " 4   MM                     696 non-null    int64         \n",
      " 5   DD                     696 non-null    int64         \n",
      " 6   HORA                   695 non-null    object        \n",
      " 7   HH                     695 non-null    float64       \n",
      " 8   LUGAR_DEL_HECHO        695 non-null    object        \n",
      " 9   TIPO_DE_CALLE          696 non-null    object        \n",
      " 10  Calle                  695 non-null    object        \n",
      " 11  Altura                 129 non-null    float64       \n",
      " 12  Cruce                  525 non-null    object        \n",
      " 13  Dirección Normalizada  688 non-null    object        \n",
      " 14  COMUNA                 696 non-null    int64         \n",
      " 15  XY (CABA)              696 non-null    object        \n",
      " 16  pos x                  696 non-null    object        \n",
      " 17  pos y                  696 non-null    object        \n",
      " 18  PARTICIPANTES          696 non-null    object        \n",
      " 19  VICTIMA                687 non-null    object        \n",
      " 20  ACUSADO                673 non-null    object        \n",
      "dtypes: datetime64[ns](1), float64(2), int64(5), object(13)\n",
      "memory usage: 114.3+ KB\n"
     ]
    }
   ],
   "source": [
    "df_hechos.info()"
   ]
  },
  {
   "cell_type": "markdown",
   "metadata": {},
   "source": [
    "Dentro de la exploración y sobre lo que nos están solicitado, vamos a eliminar las dimensiones (columnas) que no se utilizarán dentro del análisis."
   ]
  },
  {
   "cell_type": "code",
   "execution_count": 6,
   "metadata": {},
   "outputs": [],
   "source": [
    "#Eliminamos columnas irrelevantes para el análisis\n",
    "df_hechos.drop(columns=['AAAA','MM','DD','HORA','LUGAR_DEL_HECHO','Calle','Altura','Cruce','Dirección Normalizada','PARTICIPANTES'], inplace=True)"
   ]
  },
  {
   "cell_type": "code",
   "execution_count": 7,
   "metadata": {},
   "outputs": [
    {
     "data": {
      "text/plain": [
       "ID                0\n",
       "N_VICTIMAS        0\n",
       "FECHA             0\n",
       "HH                1\n",
       "TIPO_DE_CALLE     0\n",
       "COMUNA            0\n",
       "XY (CABA)         0\n",
       "pos x             0\n",
       "pos y             0\n",
       "VICTIMA           9\n",
       "ACUSADO          23\n",
       "dtype: int64"
      ]
     },
     "execution_count": 7,
     "metadata": {},
     "output_type": "execute_result"
    }
   ],
   "source": [
    "#Visualizamos la cantidad de nulos que tenemos en este dataset\n",
    "df_hechos.isnull().sum()"
   ]
  },
  {
   "cell_type": "markdown",
   "metadata": {},
   "source": [
    "Dentro de la revisión de las columnas, cambiamos a valores \"NaN\", los valores descritos posteriormente"
   ]
  },
  {
   "cell_type": "code",
   "execution_count": 8,
   "metadata": {},
   "outputs": [],
   "source": [
    "#Reemplazamos los valores 0 de la 'COMUNA' a nulos \n",
    "df_hechos.loc[df_hechos['COMUNA'] == 0, 'COMUNA'] = np.nan\n",
    "\n",
    "#Reemplazamos a valores nulos, la longitud y latitud\n",
    "df_hechos.loc[df_hechos['XY (CABA)'] == 'Point (. .)', 'XY (CABA)'] = np.nan\n",
    "df_hechos.loc[df_hechos['pos x'] == '.', 'pos x'] = np.nan\n",
    "df_hechos.loc[df_hechos['pos y'] == '.', 'pos y'] = np.nan"
   ]
  },
  {
   "cell_type": "code",
   "execution_count": 9,
   "metadata": {},
   "outputs": [
    {
     "name": "stdout",
     "output_type": "stream",
     "text": [
      "<class 'pandas.core.frame.DataFrame'>\n",
      "RangeIndex: 696 entries, 0 to 695\n",
      "Data columns (total 11 columns):\n",
      " #   Column         Non-Null Count  Dtype         \n",
      "---  ------         --------------  -----         \n",
      " 0   ID             696 non-null    object        \n",
      " 1   N_VICTIMAS     696 non-null    int64         \n",
      " 2   FECHA          696 non-null    datetime64[ns]\n",
      " 3   HH             695 non-null    float64       \n",
      " 4   TIPO_DE_CALLE  696 non-null    object        \n",
      " 5   COMUNA         694 non-null    float64       \n",
      " 6   XY (CABA)      682 non-null    object        \n",
      " 7   pos x          684 non-null    object        \n",
      " 8   pos y          684 non-null    object        \n",
      " 9   VICTIMA        687 non-null    object        \n",
      " 10  ACUSADO        673 non-null    object        \n",
      "dtypes: datetime64[ns](1), float64(2), int64(1), object(7)\n",
      "memory usage: 59.9+ KB\n"
     ]
    }
   ],
   "source": [
    "df_hechos.info()"
   ]
  },
  {
   "cell_type": "code",
   "execution_count": 10,
   "metadata": {},
   "outputs": [
    {
     "data": {
      "text/html": [
       "<div>\n",
       "<style scoped>\n",
       "    .dataframe tbody tr th:only-of-type {\n",
       "        vertical-align: middle;\n",
       "    }\n",
       "\n",
       "    .dataframe tbody tr th {\n",
       "        vertical-align: top;\n",
       "    }\n",
       "\n",
       "    .dataframe thead th {\n",
       "        text-align: right;\n",
       "    }\n",
       "</style>\n",
       "<table border=\"1\" class=\"dataframe\">\n",
       "  <thead>\n",
       "    <tr style=\"text-align: right;\">\n",
       "      <th></th>\n",
       "      <th>ID</th>\n",
       "      <th>N_VICTIMAS</th>\n",
       "      <th>FECHA</th>\n",
       "      <th>HH</th>\n",
       "      <th>TIPO_DE_CALLE</th>\n",
       "      <th>COMUNA</th>\n",
       "      <th>XY (CABA)</th>\n",
       "      <th>pos x</th>\n",
       "      <th>pos y</th>\n",
       "      <th>VICTIMA</th>\n",
       "      <th>ACUSADO</th>\n",
       "    </tr>\n",
       "  </thead>\n",
       "  <tbody>\n",
       "    <tr>\n",
       "      <th>0</th>\n",
       "      <td>2016-0001</td>\n",
       "      <td>1</td>\n",
       "      <td>2016-01-01</td>\n",
       "      <td>4.0</td>\n",
       "      <td>AVENIDA</td>\n",
       "      <td>8.0</td>\n",
       "      <td>Point (98896.78238426 93532.43437792)</td>\n",
       "      <td>-58.47533969</td>\n",
       "      <td>-34.68757022</td>\n",
       "      <td>MOTO</td>\n",
       "      <td>AUTO</td>\n",
       "    </tr>\n",
       "    <tr>\n",
       "      <th>1</th>\n",
       "      <td>2016-0002</td>\n",
       "      <td>1</td>\n",
       "      <td>2016-01-02</td>\n",
       "      <td>1.0</td>\n",
       "      <td>GRAL PAZ</td>\n",
       "      <td>9.0</td>\n",
       "      <td>Point (95832.05571093 95505.41641999)</td>\n",
       "      <td>-58.50877521</td>\n",
       "      <td>-34.66977709</td>\n",
       "      <td>AUTO</td>\n",
       "      <td>PASAJEROS</td>\n",
       "    </tr>\n",
       "    <tr>\n",
       "      <th>2</th>\n",
       "      <td>2016-0003</td>\n",
       "      <td>1</td>\n",
       "      <td>2016-01-03</td>\n",
       "      <td>7.0</td>\n",
       "      <td>AVENIDA</td>\n",
       "      <td>1.0</td>\n",
       "      <td>Point (106684.29090040 99706.57687843)</td>\n",
       "      <td>-58.39040293</td>\n",
       "      <td>-34.63189362</td>\n",
       "      <td>MOTO</td>\n",
       "      <td>AUTO</td>\n",
       "    </tr>\n",
       "    <tr>\n",
       "      <th>3</th>\n",
       "      <td>2016-0004</td>\n",
       "      <td>1</td>\n",
       "      <td>2016-01-10</td>\n",
       "      <td>0.0</td>\n",
       "      <td>AVENIDA</td>\n",
       "      <td>8.0</td>\n",
       "      <td>Point (99840.65224780 94269.16534422)</td>\n",
       "      <td>-58.46503904</td>\n",
       "      <td>-34.68092974</td>\n",
       "      <td>MOTO</td>\n",
       "      <td>NaN</td>\n",
       "    </tr>\n",
       "    <tr>\n",
       "      <th>4</th>\n",
       "      <td>2016-0005</td>\n",
       "      <td>1</td>\n",
       "      <td>2016-01-21</td>\n",
       "      <td>5.0</td>\n",
       "      <td>AVENIDA</td>\n",
       "      <td>1.0</td>\n",
       "      <td>Point (106980.32827929 100752.16915795)</td>\n",
       "      <td>-58.38718297</td>\n",
       "      <td>-34.62246630</td>\n",
       "      <td>MOTO</td>\n",
       "      <td>PASAJEROS</td>\n",
       "    </tr>\n",
       "  </tbody>\n",
       "</table>\n",
       "</div>"
      ],
      "text/plain": [
       "          ID  N_VICTIMAS      FECHA   HH TIPO_DE_CALLE  COMUNA  \\\n",
       "0  2016-0001           1 2016-01-01  4.0       AVENIDA     8.0   \n",
       "1  2016-0002           1 2016-01-02  1.0      GRAL PAZ     9.0   \n",
       "2  2016-0003           1 2016-01-03  7.0       AVENIDA     1.0   \n",
       "3  2016-0004           1 2016-01-10  0.0       AVENIDA     8.0   \n",
       "4  2016-0005           1 2016-01-21  5.0       AVENIDA     1.0   \n",
       "\n",
       "                                 XY (CABA)         pos x         pos y  \\\n",
       "0    Point (98896.78238426 93532.43437792)  -58.47533969  -34.68757022   \n",
       "1    Point (95832.05571093 95505.41641999)  -58.50877521  -34.66977709   \n",
       "2   Point (106684.29090040 99706.57687843)  -58.39040293  -34.63189362   \n",
       "3    Point (99840.65224780 94269.16534422)  -58.46503904  -34.68092974   \n",
       "4  Point (106980.32827929 100752.16915795)  -58.38718297  -34.62246630   \n",
       "\n",
       "  VICTIMA    ACUSADO  \n",
       "0    MOTO       AUTO  \n",
       "1    AUTO  PASAJEROS  \n",
       "2    MOTO       AUTO  \n",
       "3    MOTO        NaN  \n",
       "4    MOTO  PASAJEROS  "
      ]
     },
     "execution_count": 10,
     "metadata": {},
     "output_type": "execute_result"
    }
   ],
   "source": [
    "df_hechos.head()"
   ]
  },
  {
   "cell_type": "markdown",
   "metadata": {},
   "source": [
    "Cambiamos el tipo de algunas dimensiones (columnas)"
   ]
  },
  {
   "cell_type": "code",
   "execution_count": 11,
   "metadata": {},
   "outputs": [],
   "source": [
    "#Cambiamos el tipo de algunas dimensiones(columnas) a Categóricos\n",
    "df_hechos['HH'] = df_hechos['HH'].astype('category')\n",
    "df_hechos['TIPO_DE_CALLE'] = df_hechos['TIPO_DE_CALLE'].astype('category')\n",
    "df_hechos['COMUNA'] = df_hechos['COMUNA'].astype('category')\n",
    "df_hechos['VICTIMA'] = df_hechos['VICTIMA'].astype('category')\n",
    "df_hechos['ACUSADO'] = df_hechos['ACUSADO'].astype('category')"
   ]
  },
  {
   "cell_type": "code",
   "execution_count": 12,
   "metadata": {},
   "outputs": [],
   "source": [
    "#Cambiamos el tipo de algunas dimensiones(columnas) a Float\n",
    "df_hechos['pos x'] = df_hechos['pos x'].astype('float')\n",
    "df_hechos['pos y'] = df_hechos['pos y'].astype('float')\n"
   ]
  },
  {
   "cell_type": "code",
   "execution_count": 13,
   "metadata": {},
   "outputs": [],
   "source": [
    "#Cambiamos el tipo de la fecha\n",
    "df_hechos[\"FECHA\"]=pd.to_datetime(df_hechos[\"FECHA\"], format='%y/%m/%d', errors='coerce').dt.date"
   ]
  },
  {
   "cell_type": "markdown",
   "metadata": {},
   "source": [
    "Al notar que los nombres de las columnas no estaban bien emparejados puesto que, algunos nombres estaban en minúscula, por eso que finalmente nos decidimos en ponerlo todo en mayúscula.\n",
    "\n",
    "P.D: En esta parte incluímos también las columnas del otro dataframe para mayor comodidad."
   ]
  },
  {
   "cell_type": "code",
   "execution_count": 14,
   "metadata": {},
   "outputs": [],
   "source": [
    "# Renombramos las columnas\n",
    "new_names = {'ID': 'ID_HECHO','pos x':'LONGITUD','pos y':'LATITUD',\n",
    "                  'HH':'HORA','VICTIMA':'VEHICULO_VICTIMA','ACUSADO':'VEHICULO_ACUSADO',\n",
    "                  'Rango_etario ':'RANGO_ETARIO'}\n",
    "                 \n",
    "# Reemplazamos nombres de columnas\n",
    "df_hechos = df_hechos.rename(columns = new_names)"
   ]
  },
  {
   "cell_type": "code",
   "execution_count": 15,
   "metadata": {},
   "outputs": [
    {
     "data": {
      "text/plain": [
       "Index(['ID_HECHO', 'N_VICTIMAS', 'FECHA', 'HORA', 'TIPO_DE_CALLE', 'COMUNA',\n",
       "       'XY (CABA)', 'LONGITUD', 'LATITUD', 'VEHICULO_VICTIMA',\n",
       "       'VEHICULO_ACUSADO'],\n",
       "      dtype='object')"
      ]
     },
     "execution_count": 15,
     "metadata": {},
     "output_type": "execute_result"
    }
   ],
   "source": [
    "df_hechos.columns"
   ]
  },
  {
   "cell_type": "markdown",
   "metadata": {},
   "source": [
    "Analizamos las dimensiones más a detalle."
   ]
  },
  {
   "cell_type": "markdown",
   "metadata": {},
   "source": [
    " **Dimensión 'TIPO_DE_CALLE'**"
   ]
  },
  {
   "cell_type": "code",
   "execution_count": 16,
   "metadata": {},
   "outputs": [
    {
     "data": {
      "text/plain": [
       "TIPO_DE_CALLE\n",
       "AVENIDA      429\n",
       "CALLE        136\n",
       "AUTOPISTA     66\n",
       "GRAL PAZ      65\n",
       "Name: count, dtype: int64"
      ]
     },
     "execution_count": 16,
     "metadata": {},
     "output_type": "execute_result"
    }
   ],
   "source": [
    "#Visualizamos las categorías de TIPO_DE_CALLE\n",
    "df_hechos['TIPO_DE_CALLE'].value_counts()"
   ]
  },
  {
   "cell_type": "markdown",
   "metadata": {},
   "source": [
    "En este caso vemos que existe la categoría 'GRAL PAZ', investigando se refiere a la Av. General Paz, por ende, a todos los valores con este nombre, se le reemplazará a 'AVENIDA'."
   ]
  },
  {
   "cell_type": "code",
   "execution_count": 17,
   "metadata": {},
   "outputs": [
    {
     "name": "stderr",
     "output_type": "stream",
     "text": [
      "C:\\Users\\Rafael Farfan\\AppData\\Local\\Temp\\ipykernel_37220\\2495949059.py:2: FutureWarning: A value is trying to be set on a copy of a DataFrame or Series through chained assignment using an inplace method.\n",
      "The behavior will change in pandas 3.0. This inplace method will never work because the intermediate object on which we are setting values always behaves as a copy.\n",
      "\n",
      "For example, when doing 'df[col].method(value, inplace=True)', try using 'df.method({col: value}, inplace=True)' or df[col] = df[col].method(value) instead, to perform the operation inplace on the original object.\n",
      "\n",
      "\n",
      "  df_hechos['TIPO_DE_CALLE'].replace('GRAL PAZ', 'AVENIDA', inplace=True)\n",
      "C:\\Users\\Rafael Farfan\\AppData\\Local\\Temp\\ipykernel_37220\\2495949059.py:2: FutureWarning: The behavior of Series.replace (and DataFrame.replace) with CategoricalDtype is deprecated. In a future version, replace will only be used for cases that preserve the categories. To change the categories, use ser.cat.rename_categories instead.\n",
      "  df_hechos['TIPO_DE_CALLE'].replace('GRAL PAZ', 'AVENIDA', inplace=True)\n"
     ]
    }
   ],
   "source": [
    "#Reemplazamos 'GRAL PAZ' por 'AVENIDA' \n",
    "df_hechos['TIPO_DE_CALLE'].replace('GRAL PAZ', 'AVENIDA', inplace=True)"
   ]
  },
  {
   "cell_type": "markdown",
   "metadata": {},
   "source": [
    "Por último realizamos un resumen descriptivo de los datos."
   ]
  },
  {
   "cell_type": "code",
   "execution_count": 24,
   "metadata": {},
   "outputs": [
    {
     "data": {
      "text/html": [
       "<style type=\"text/css\">\n",
       "#T_bd28d thead>tr>th {\n",
       "  text-align: left;\n",
       "}\n",
       "#T_bd28d_row0_col0, #T_bd28d_row1_col0, #T_bd28d_row2_col0, #T_bd28d_row3_col0, #T_bd28d_row4_col0, #T_bd28d_row5_col0, #T_bd28d_row6_col0, #T_bd28d_row7_col0, #T_bd28d_row8_col0, #T_bd28d_row9_col0, #T_bd28d_row10_col0 {\n",
       "  text-align: left;\n",
       "  font-size: 12px;\n",
       "  vertical-align: middle;\n",
       "  width: 5%;\n",
       "  max-width: 50px;\n",
       "  min-width: 20px;\n",
       "}\n",
       "#T_bd28d_row0_col1, #T_bd28d_row1_col1, #T_bd28d_row2_col1, #T_bd28d_row3_col1, #T_bd28d_row4_col1, #T_bd28d_row5_col1, #T_bd28d_row6_col1, #T_bd28d_row7_col1, #T_bd28d_row8_col1, #T_bd28d_row9_col1, #T_bd28d_row10_col1 {\n",
       "  text-align: left;\n",
       "  font-size: 12px;\n",
       "  vertical-align: middle;\n",
       "  width: 15%;\n",
       "  max-width: 200px;\n",
       "  min-width: 100px;\n",
       "  word-break: break-word;\n",
       "}\n",
       "#T_bd28d_row0_col2, #T_bd28d_row1_col2, #T_bd28d_row2_col2, #T_bd28d_row3_col2, #T_bd28d_row4_col2, #T_bd28d_row5_col2, #T_bd28d_row6_col2, #T_bd28d_row7_col2, #T_bd28d_row8_col2, #T_bd28d_row9_col2, #T_bd28d_row10_col2 {\n",
       "  text-align: left;\n",
       "  font-size: 12px;\n",
       "  vertical-align: middle;\n",
       "  width: 30%;\n",
       "  min-width: 100px;\n",
       "}\n",
       "#T_bd28d_row0_col3, #T_bd28d_row1_col3, #T_bd28d_row2_col3, #T_bd28d_row3_col3, #T_bd28d_row4_col3, #T_bd28d_row5_col3, #T_bd28d_row6_col3, #T_bd28d_row7_col3, #T_bd28d_row8_col3, #T_bd28d_row9_col3, #T_bd28d_row10_col3 {\n",
       "  text-align: left;\n",
       "  font-size: 12px;\n",
       "  vertical-align: middle;\n",
       "  width: 25%;\n",
       "  min-width: 100px;\n",
       "}\n",
       "#T_bd28d_row0_col4, #T_bd28d_row1_col4, #T_bd28d_row2_col4, #T_bd28d_row3_col4, #T_bd28d_row4_col4, #T_bd28d_row5_col4, #T_bd28d_row6_col4, #T_bd28d_row7_col4, #T_bd28d_row8_col4, #T_bd28d_row9_col4, #T_bd28d_row10_col4 {\n",
       "  text-align: left;\n",
       "  font-size: 12px;\n",
       "  vertical-align: middle;\n",
       "  width: 20%;\n",
       "  min-width: 150px;\n",
       "}\n",
       "#T_bd28d_row0_col5, #T_bd28d_row1_col5, #T_bd28d_row2_col5, #T_bd28d_row3_col5, #T_bd28d_row4_col5, #T_bd28d_row5_col5, #T_bd28d_row6_col5, #T_bd28d_row7_col5, #T_bd28d_row8_col5, #T_bd28d_row9_col5, #T_bd28d_row10_col5 {\n",
       "  text-align: left;\n",
       "  font-size: 12px;\n",
       "  vertical-align: middle;\n",
       "  width: 10%;\n",
       "}\n",
       "</style>\n",
       "<table id=\"T_bd28d\">\n",
       "  <caption><strong>Data Frame Summary</strong><br>df_hechos<br>Dimensions: 696 x 11<br>Duplicates: 0</caption>\n",
       "  <thead>\n",
       "    <tr>\n",
       "      <th id=\"T_bd28d_level0_col0\" class=\"col_heading level0 col0\" >No</th>\n",
       "      <th id=\"T_bd28d_level0_col1\" class=\"col_heading level0 col1\" >Variable</th>\n",
       "      <th id=\"T_bd28d_level0_col2\" class=\"col_heading level0 col2\" >Stats / Values</th>\n",
       "      <th id=\"T_bd28d_level0_col3\" class=\"col_heading level0 col3\" >Freqs / (% of Valid)</th>\n",
       "      <th id=\"T_bd28d_level0_col4\" class=\"col_heading level0 col4\" >Graph</th>\n",
       "      <th id=\"T_bd28d_level0_col5\" class=\"col_heading level0 col5\" >Missing</th>\n",
       "    </tr>\n",
       "  </thead>\n",
       "  <tbody>\n",
       "    <tr>\n",
       "      <td id=\"T_bd28d_row0_col0\" class=\"data row0 col0\" >1</td>\n",
       "      <td id=\"T_bd28d_row0_col1\" class=\"data row0 col1\" ><strong>ID_HECHO</strong><br>[object]</td>\n",
       "      <td id=\"T_bd28d_row0_col2\" class=\"data row0 col2\" >1. 2016-0001<br>2. 2019-0050<br>3. 2019-0042<br>4. 2019-0043<br>5. 2019-0044<br>6. 2019-0045<br>7. 2019-0046<br>8. 2019-0047<br>9. 2019-0048<br>10. 2019-0049<br>11. other</td>\n",
       "      <td id=\"T_bd28d_row0_col3\" class=\"data row0 col3\" >1 (0.1%)<br>1 (0.1%)<br>1 (0.1%)<br>1 (0.1%)<br>1 (0.1%)<br>1 (0.1%)<br>1 (0.1%)<br>1 (0.1%)<br>1 (0.1%)<br>1 (0.1%)<br>686 (98.6%)</td>\n",
       "      <td id=\"T_bd28d_row0_col4\" class=\"data row0 col4\" ><img src = \"data:image/png;base64, iVBORw0KGgoAAAANSUhEUgAAAJsAAAD+CAYAAAAtWHdlAAAAOXRFWHRTb2Z0d2FyZQBNYXRwbG90bGliIHZlcnNpb24zLjguMywgaHR0cHM6Ly9tYXRwbG90bGliLm9yZy/H5lhTAAAACXBIWXMAAA9hAAAPYQGoP6dpAAADXElEQVR4nO3cwWkbYRRG0TdGOPZGQhhcQtKDi0ixKUJFpAdjPIvY8WaySBYpINwB5ZwK/sWFh2A+Ldu2DRRu9n4A/w+xkREbGbGRERsZsZERGxmxkREbGbGRuVmW5cuyLHd7P4TrdzMzn2fm094P4fo5o2TERkZsZMRGRmxkxEZGbGTERkZsZMRGRmxkxEZGbGTERkZsZMRG5mZmvs/Mz70fwvVb/IsRFWeUjNjIWFeRsa4i44ySERsZsZERGxmxkREbGbGRERsZsZERGxmxkREbGbGRERsZsZExeCFj8ELGGSUjNjIGL2QMXsg4o2TERkZsZMRGRmxkxEZGbGTERkZsZMRGRmxkxEZGbGTERkZsZAxeyBi8kHFGyYiNjNjIWFeRsa4i44ySERsZsZERGxmxkREbGbGRERsZsZERGxmxkREbGbGRERsZsZGxriJjXUXGGSUjNjIGL2QMXsg4o2TERkZsZMRGRmxkxEZGbGTERkZsZMRGRmxkxEZGbGTERkZsZAxeyBi8kHFGyYiNjMELGYMXMs4oGbGRERsZsZERGxmxkREbGbGRERsZsZERGxmxkREbGbGRERsZsZGxriJjXUXGGSUjNjLWVWSsq8g4o2TERkZsZMRGRmxkxEZGbGTERkZsZMRGRmxkxEZGbGTERkZsZAxeyBi8kHFGyYiNjMELGYMXMs4oGbGRERsZsZERGxmxkREbGbGRERsZsZERGxmxkREbGbGRERsZgxcyBi9knFEyYiMjNjLWVWSsq8g4o2TERkZsZMRGRmxkxEZGbGTERkZsZMRGRmxkxEZGbGTERkZsZKyryFhXkXFGyYiNjMELGYMXMs4oGbGRERsZsZERGxmxkREbGbGRERsZsZERGxmxkREbGbGRERsZgxcyBi9knFEyy8zcz8zt3g/hqn1s2/Z2eHh4+Ho8Hs97v4brta7ry7Is3w7H4/H89PT0djqd3vd+FNfn9fX17nK5nJ+fn28PMzOn0+n98fHxx94P42rdz/iBQEhsZMRGRmxkxEZGbGTERkZsZMRGRmxkxEZGbGTERuYw8/szkL0fwnX6u63Duq4vl8vlPH8+A4F/bV3Xl5n58Fk4hY9t296sq8j4gUBGbGTERkZsZMRGRmxkxEZGbGTERuYXwgdpOf758ysAAAAASUVORK5CYII=\"></img></td>\n",
       "      <td id=\"T_bd28d_row0_col5\" class=\"data row0 col5\" >0<br>(0.0%)</td>\n",
       "    </tr>\n",
       "    <tr>\n",
       "      <td id=\"T_bd28d_row1_col0\" class=\"data row1 col0\" >2</td>\n",
       "      <td id=\"T_bd28d_row1_col1\" class=\"data row1 col1\" ><strong>N_VICTIMAS</strong><br>[int64]</td>\n",
       "      <td id=\"T_bd28d_row1_col2\" class=\"data row1 col2\" >Mean (sd) : 1.0 (0.2)<br>min < med < max:<br>1.0 < 1.0 < 3.0<br>IQR (CV) : 0.0 (5.7)</td>\n",
       "      <td id=\"T_bd28d_row1_col3\" class=\"data row1 col3\" >3 distinct values</td>\n",
       "      <td id=\"T_bd28d_row1_col4\" class=\"data row1 col4\" ><img src = \"data:image/png;base64, iVBORw0KGgoAAAANSUhEUgAAAKoAAABGCAYAAABc8A97AAAAOXRFWHRTb2Z0d2FyZQBNYXRwbG90bGliIHZlcnNpb24zLjguMywgaHR0cHM6Ly9tYXRwbG90bGliLm9yZy/H5lhTAAAACXBIWXMAAA9hAAAPYQGoP6dpAAABs0lEQVR4nO3XQWrCUBCH8ZkiqQ/khZCaY3gAD+FhPYRbTxLkZdGoVF53hVJaTbToX77fNplhFh8RPedswKN7ufcBwCUm515w92Bmxcj9x5xzP3IW+PJnqO4e6rpexRirMcu7rtu5+5pYca1zX9Qixlgtl8u+LMv9kMUppelms6nati3MjFBxlbM//WZmZVnum6Z5H7E/jJgBfuDPFCQQKiQQKiQQKiQQKiQQKiQQKiQQKiQQKiQQKiQQKiQQKiQQKiQQKiQQKiQQKiQQKiQQKiQQKiQQKiQQKiQQKiQQKiQQKiQQKiQQKiQQKiQQKiQQKiQQKiQQKiQQKiQQKiQQKiQQKiQQKiQQKiQQKiQQKiQQKiQQKiQQKiQQKiQQKiQQKiQQKiQQKiQQKiQQKiQQKiQQKiQQKiQQKiQQKiQQKiQQKiQQKiQQKiQQKiQQKiQQKiRM7n3AM3L3YGbFyPFjzrm/5T3PgFBvzN1DXderGGM1Zr7rup27r4n1u4tCTSlNhy5OKU1Pp9PEzKK7Dz5MWJzNZvPFYvERQjgMGez7/nW73c7btn1z9+6/DnxQh5zz/reHnwblSFGwSZ17AAAAAElFTkSuQmCC\"></img></td>\n",
       "      <td id=\"T_bd28d_row1_col5\" class=\"data row1 col5\" >0<br>(0.0%)</td>\n",
       "    </tr>\n",
       "    <tr>\n",
       "      <td id=\"T_bd28d_row2_col0\" class=\"data row2 col0\" >3</td>\n",
       "      <td id=\"T_bd28d_row2_col1\" class=\"data row2 col1\" ><strong>FECHA</strong><br>[object]</td>\n",
       "      <td id=\"T_bd28d_row2_col2\" class=\"data row2 col2\" >1. 2018-12-18<br>2. 2016-11-26<br>3. 2018-12-22<br>4. 2018-02-17<br>5. 2016-02-28<br>6. 2016-02-17<br>7. 2018-04-27<br>8. 2016-06-13<br>9. 2017-11-19<br>10. 2018-12-12<br>11. other</td>\n",
       "      <td id=\"T_bd28d_row2_col3\" class=\"data row2 col3\" >3 (0.4%)<br>3 (0.4%)<br>3 (0.4%)<br>3 (0.4%)<br>3 (0.4%)<br>3 (0.4%)<br>3 (0.4%)<br>3 (0.4%)<br>3 (0.4%)<br>3 (0.4%)<br>666 (95.7%)</td>\n",
       "      <td id=\"T_bd28d_row2_col4\" class=\"data row2 col4\" ><img src = \"data:image/png;base64, iVBORw0KGgoAAAANSUhEUgAAAJsAAAD+CAYAAAAtWHdlAAAAOXRFWHRTb2Z0d2FyZQBNYXRwbG90bGliIHZlcnNpb24zLjguMywgaHR0cHM6Ly9tYXRwbG90bGliLm9yZy/H5lhTAAAACXBIWXMAAA9hAAAPYQGoP6dpAAADfUlEQVR4nO3cwWoTUQCG0ZsSit1MCIE8TB6iD+tD5G1CyCxs6SYujCtNFaxfMJ6zEtzM4mMyXu7v4nw+Dyg83PoB+H+IjYzYyIiNjNjIiI2M2MiIjYzYyCzGGE9jjHE+n19u/CzcueVms3keY4zFYvFZcPxND9M0radpWo8xHm/9MNw332xkxEZGbGTERkZsZMRGRmxkxEZGbGTERkZsZMRGRmxkxEZGbGTERmY5z/Px8ue3mz4Jd88GgczCf5lFxZuNjHUVGesqMo4+yIiNjNjIiI2M2MiIjYzYyIiNjNjIiI2M2MiIjYzYyIiNjNjIGLyQcS2cjMELGW82MgYvZAxeyDj6ICM2MmIjIzYyYiMjNjJiIyM2MmIjIzYyYiMjNjJiIyM2MmIjY/BCxrVwMgYvZHyzkfEzSsa6iox1FRnfbGTERkZsZMRGRmxkxEZGbGTERkZsZMRGRmxkxEZGbGTERkZsZKyryLgWTsa6iow3GxmDFzIGL2QcfZARGxmxkREbGbGRERsZsZERGxmxkREbGbGRERsZsZERGxmxkTF4IeNaOBmDFzLebGQMXsgYvJBx9EFGbGTERkZsZMRGRmxkxEZGbGTERkZsZMRGRmxkxEZGbGTERkZsZKyryNggkLGuIuPNRsa6iox1FRlHH2TERkZsZMRGRmxkxEZGbGTERkZsZMRGRmxkxEZGbGTERkZsZAxeyLgWTsbghYw3GxmDFzIGL2QcfZARGxmxkREbGbGRERsZsZERGxmxkREbGbGRERsZsZERGxmxkTF4IeNaOBmDFzK+2cj4GSVjXUXGuoqMbzYyYiMjNjJiIyM2MmIjIzYyYiMjNjJiIyM2MmIjIzYyYiMjNjLWVWRcCydjXUXGm42MwQsZgxcyjj7IiI2M2MiIjYzYyIiNjNjIiI2M2MiIjYzYyIiNjNjIiI2M2MgYvJBxLZyMwQuZ7282V8L5KG/XfiWXm83m+bJBgD82z/Px2nhqOU3TerfbvaxWq9dbPBz343Q6fdrv9+vD4fA4xvgxtjHGWK1Wr9vt9kv+dNyjp2t/4ZyNjNjIiI2M2MiIjYzYyIiNjNjIiI2M2MiIjYzYyIiNzHKMb1dDbv0g/Pt+1dFynufjfr9fj3euhsDvugyofjqeci2cj3b1WrjBCxn/QCAjNjJiIyM2MmIjIzYyYiMjNjJiI/MVlHUQJ0ddGaUAAAAASUVORK5CYII=\"></img></td>\n",
       "      <td id=\"T_bd28d_row2_col5\" class=\"data row2 col5\" >0<br>(0.0%)</td>\n",
       "    </tr>\n",
       "    <tr>\n",
       "      <td id=\"T_bd28d_row3_col0\" class=\"data row3 col0\" >4</td>\n",
       "      <td id=\"T_bd28d_row3_col1\" class=\"data row3 col1\" ><strong>HORA</strong><br>[category]</td>\n",
       "      <td id=\"T_bd28d_row3_col2\" class=\"data row3 col2\" >1. 7.0<br>2. 6.0<br>3. 9.0<br>4. 5.0<br>5. 14.0<br>6. 12.0<br>7. 8.0<br>8. 18.0<br>9. 10.0<br>10. 16.0<br>11. other</td>\n",
       "      <td id=\"T_bd28d_row3_col3\" class=\"data row3 col3\" >41 (5.9%)<br>40 (5.7%)<br>36 (5.2%)<br>35 (5.0%)<br>33 (4.7%)<br>32 (4.6%)<br>31 (4.5%)<br>31 (4.5%)<br>31 (4.5%)<br>30 (4.3%)<br>356 (51.1%)</td>\n",
       "      <td id=\"T_bd28d_row3_col4\" class=\"data row3 col4\" ><img src = \"data:image/png;base64, iVBORw0KGgoAAAANSUhEUgAAAJsAAAD+CAYAAAAtWHdlAAAAOXRFWHRTb2Z0d2FyZQBNYXRwbG90bGliIHZlcnNpb24zLjguMywgaHR0cHM6Ly9tYXRwbG90bGliLm9yZy/H5lhTAAAACXBIWXMAAA9hAAAPYQGoP6dpAAADr0lEQVR4nO3cwUobUQCG0ZsSpN0kiODD+BB92D5E3kbEWVRxky66bW6cOnwFe87WLIJ8XJnh/u7O5/OAwpd//QX4f4iNjNjIiI2M2MiIjYzYyIiNjNjI7MYY38YYN1c+93Y+n1+C78Mntr+7u/t+OBxuZx9aluVpt9v9EBwfsT8cDrcPDw8vx+Px9U8feH5+/no6nW4fHx9vxhhi46/txxjjeDy+3t/f/5x87lv0ffjEPCCQERsZsZERGxmxkREbGbGRERsZsZERGxmxkREbGbGRERuZ/Ri/76xd+sDsZ7DGflmWp9PpdDsmd9aWZXkaY7x1X4vPyAaBzM6/zKLiZCNjXUXGuoqMdRUZL3XJiI2M2MiIjYzYyIiNjNjIiI2M2MiIjYzYyIiNjNjIGLyQMXgh41o4GYMXMu852ZxqbOLq4MXYha1MBy/GLmzpPYMXYxc24aUuGbGRERsZsZERGxmxkREbGbGRERsZsZERGxmxkREbmengxdiFLV0dvBi7sBXXwskYvJDxgEDGn1Ey1lVkrKvIWFeR8YBARmxkxEZGbGTERkZsZMRGRmxkxEZGbGTERkZsZMRGxrqKjHUVGdfCyVhXkbl2sjnV2Mx08GLswpYuDl6MXdjatcGLsQub8VKXjNjIiI2M2MiIjYzYyIiNjNjIiI2M2MiIjYzYyIiNzMXBi7ELW5sOXoxd2JJr4WQMXsg42cgYvJAxeCFj8ELGS10yYiMjNjJiIyM2MmIjIzYyYiMjNjJiIyM2MmIjIzYyYiNjXUXGuoqMDQIZ6yoyTjYy1lVkrKvIWFeR8VKXjNjIiI2M2MiIjYzYyIiNjNjIiI2M2MiIjYzYyIiNjMELGYMXMq6FkzF4IeNkI2PwQsbghYzBCxkvdcmIjYzYyIiNjNjIiI2M2MiIjYzYyIiNjNjIiI2M2MgYvJAxeCHjWjgZgxcyHhDI+DNKxrqKjHUVGesqMh4QyIiNjNjIiI2M2MiIjYzYyIiNjNjIiI2M2MiIjYzYyFhXkbGuIuNaOBnrKjJONjIGL2QMXsgYvJDxUpeM2MiIjYzYyIiNjNjIiI2M2MiIjYzYyIiNjNjIiI2MwQsZgxcyroWTMXghc+1kY87Jv8J08MKcQdA6FwcvzBkErXdt8MKcQdAKXuqSERsZsZERGxmxkREbGbGRERsZsZERGxmxkREbGbGRuTh4Yc7vbL3p4IU5g6B1XAv/GNfCVzB4IeMBgYzYyIiNjNjIiI2M2MiIjYzYyIiNzC+w8k7iY9gtVQAAAABJRU5ErkJggg==\"></img></td>\n",
       "      <td id=\"T_bd28d_row3_col5\" class=\"data row3 col5\" >1<br>(0.1%)</td>\n",
       "    </tr>\n",
       "    <tr>\n",
       "      <td id=\"T_bd28d_row4_col0\" class=\"data row4 col0\" >5</td>\n",
       "      <td id=\"T_bd28d_row4_col1\" class=\"data row4 col1\" ><strong>TIPO_DE_CALLE</strong><br>[category]</td>\n",
       "      <td id=\"T_bd28d_row4_col2\" class=\"data row4 col2\" >1. AVENIDA<br>2. CALLE<br>3. AUTOPISTA</td>\n",
       "      <td id=\"T_bd28d_row4_col3\" class=\"data row4 col3\" >494 (71.0%)<br>136 (19.5%)<br>66 (9.5%)</td>\n",
       "      <td id=\"T_bd28d_row4_col4\" class=\"data row4 col4\" ><img src = \"data:image/png;base64, iVBORw0KGgoAAAANSUhEUgAAAJsAAABFCAYAAABdVZTTAAAAOXRFWHRTb2Z0d2FyZQBNYXRwbG90bGliIHZlcnNpb24zLjguMywgaHR0cHM6Ly9tYXRwbG90bGliLm9yZy/H5lhTAAAACXBIWXMAAA9hAAAPYQGoP6dpAAABmElEQVR4nO3bQYriYBSF0ZdCpGuSIIKLcRG92FpEdiNiBlVFTdKD3oCpwP358ZwVPPBTiXiHdV0LEt5aH8DrGKrqvaqOrQ9hs591Xb9aH7HF4Xw+/x3H8dT6ELZZluU+DMNHT8EdxnE8Xa/Xr2mavlsfw3Mej8efeZ5Pt9vtWFX9xFZVNU3T9+Vy+Wx9DJu8tz5gKw8IxIiNGLERIzZixEaM2IgRGzFiI0ZsxIiNGLERIzZixEaM2Ig5VP3/f1TrQ3her6/XYVmW+zzPp+rw/1GvbFmWe1X9tL5jCxuEfnW3QRhM+Uhp+cnW3TuTfZqtq3pcB7FPk3VVr+sg9mm5rvL0+2L8qEuM2IgRGzFiI0ZsxIiNGLERIzZixEaM2IgRGzFiI0ZsxIiNmCbrql7XQezTbF3V4zqIfWwQiLGuIsYDAjF7v0Z9FfK0XVM+czy2+PWUzxyPrfZO+czxeJoHBGLERozYiBEbMWIjRmzEiI0YsREjNmLERozYiBEbMWIjRmzE/HrKZ47HVrumfOZ4bGGDQIwpHzH/AEq8o0pSQ2PmAAAAAElFTkSuQmCC\"></img></td>\n",
       "      <td id=\"T_bd28d_row4_col5\" class=\"data row4 col5\" >0<br>(0.0%)</td>\n",
       "    </tr>\n",
       "    <tr>\n",
       "      <td id=\"T_bd28d_row5_col0\" class=\"data row5 col0\" >6</td>\n",
       "      <td id=\"T_bd28d_row5_col1\" class=\"data row5 col1\" ><strong>COMUNA</strong><br>[category]</td>\n",
       "      <td id=\"T_bd28d_row5_col2\" class=\"data row5 col2\" >1. 1.0<br>2. 4.0<br>3. 9.0<br>4. 8.0<br>5. 7.0<br>6. 3.0<br>7. 15.0<br>8. 13.0<br>9. 12.0<br>10. 14.0<br>11. other</td>\n",
       "      <td id=\"T_bd28d_row5_col3\" class=\"data row5 col3\" >90 (12.9%)<br>76 (10.9%)<br>73 (10.5%)<br>65 (9.3%)<br>60 (8.6%)<br>45 (6.5%)<br>44 (6.3%)<br>40 (5.7%)<br>37 (5.3%)<br>35 (5.0%)<br>131 (18.8%)</td>\n",
       "      <td id=\"T_bd28d_row5_col4\" class=\"data row5 col4\" ><img src = \"data:image/png;base64, iVBORw0KGgoAAAANSUhEUgAAAJsAAAD+CAYAAAAtWHdlAAAAOXRFWHRTb2Z0d2FyZQBNYXRwbG90bGliIHZlcnNpb24zLjguMywgaHR0cHM6Ly9tYXRwbG90bGliLm9yZy/H5lhTAAAACXBIWXMAAA9hAAAPYQGoP6dpAAAEHUlEQVR4nO3dTWpjRwBG0VIwTXoiYQxejBeRxWYR2o0x1iDd9EQZZJQMrPdTvgHrnAU8enAp8R71uQ/X63VA4bf/+x/A/RAbGbGRERsZsZERGxmxkREbGbGROYwxvo8xvk185q/r9fpj4vP4Ih6enp7+OB6Pj7MeeLlc3g6Hw5+C478ejsfj48vLy4/T6fRz78Pe399/P5/Pj6+vr9/GGGLjXx7GGON0Ov18fn7+a9Izv096Dl+MFwQyYiMjNjJiIyM2MmIjIzYyYiMjNjJiIyM2MmIjIzYyYiPzMMY/99BmPGzWc/iaHi6Xy9v5fH4ck+6hXS6XtzHGrxnP4muxQSBz8CezqMw62Zxm3DRlXWVRxRK711UWVSw1a11lUcVNPuqSERsZsZERGxmxkREbGbGRERsZsZERGxmxkREbGbGR2T14MXJhqSmDFyMXlnAtnIzBC5kZJ5tTjUV2D16MXVhq1+DF2IU1ZgxejF1YxEddMmIjIzYyYiMjNjJiIyM2MmIjIzYyYiMjNjJiIyM2MrsGL8YurLF78GLswlKuhZMxeCHjBYHMnp9RP5+ssnldZVXFWpvWVVZVbLFnXWVVxSpeEMiIjYzYyIiNjNjIiI2M2MiIjYzYyIiNjNjIiI2M2MhsWldZVbHF5nWVVRVruRZOxrqKzNaTzanGapsGL8YubLF68GLswlZbBy/GLqzmoy4ZsZERGxmxkREbGbGRERsZsZERGxmxkREbGbGRERuZ1YMXYxe22jR4MXZhC9fCyRi8kFlzsjnN2GXx4MXIhb0WDV6MXJhhzeDFyIVdfNQlIzYyYiMjNjJiIyM2MmIjIzYyYiMjNjJiIyM2MmIjIzYyi9ZVFlXMsHhdZVHFXjYIZKyryDjZyFhXkbGuImNdRcZHXTJiIyM2MmIjIzYyYiMjNjJiIyM2MmIjIzYyYiMjNjIGL2QMXsi4Fk7G4IXM0pPNqcZuiwYvxi7McHPwYuzCLEsHL8Yu7OajLhmxkREbGbGRERsZsZERGxmxkREbGbGRERsZsZERG5mbgxdjF2ZZNHgxdmEG18LJGLyQ8YJAZsnPqJ9Qpri5rrKsYpYP11WWVcy0ZF1lWcUUXhDIiI2M2MiIjYzYyIiNjNjIiI2M2MiIjYzYyIiNjNjIfLiusqxippvrKssqZnEtnIx1FRknGxmDFzIGL2QMXsj4qEtGbGTERkZsZMRGRmxkxEZGbGTERkZsZMRGRmxkxEbG4IWMwQsZ18LJGLyQWfofpc3mtLxDNwcvn8GI5j59OHj5DEY092vJ4OUzGNHcIR91yYiNjNjIiI2M2MiIjYzYyIiNjNjIiI2M2MiIjYzYyHw4ePkMRjT36+bg5TMY0dwn18LJGLyQ8YJARmxkxEZGbGTERkZsZMRGRmxkxEbmbzy9TuLJDahoAAAAAElFTkSuQmCC\"></img></td>\n",
       "      <td id=\"T_bd28d_row5_col5\" class=\"data row5 col5\" >2<br>(0.3%)</td>\n",
       "    </tr>\n",
       "    <tr>\n",
       "      <td id=\"T_bd28d_row6_col0\" class=\"data row6 col0\" >7</td>\n",
       "      <td id=\"T_bd28d_row6_col1\" class=\"data row6 col1\" ><strong>XY (CABA)</strong><br>[object]</td>\n",
       "      <td id=\"T_bd28d_row6_col2\" class=\"data row6 col2\" >1. nan<br>2. Point (101721.59002217 93844.2<br>3. Point (96563.66494817 108815.7<br>4. Point (99620.34936816 110483.2<br>5. Point (95832.05571093 95505.41<br>6. Point (106817.01972475 101248.<br>7. Point (99615.63172945 99306.93<br>8. Point (97801.31825511 99194.93<br>9. Point (104283.01090451 97171.0<br>10. Point (94486.28631712 103468.5<br>11. other</td>\n",
       "      <td id=\"T_bd28d_row6_col3\" class=\"data row6 col3\" >14 (2.0%)<br>5 (0.7%)<br>4 (0.6%)<br>4 (0.6%)<br>4 (0.6%)<br>3 (0.4%)<br>3 (0.4%)<br>3 (0.4%)<br>3 (0.4%)<br>3 (0.4%)<br>650 (93.4%)</td>\n",
       "      <td id=\"T_bd28d_row6_col4\" class=\"data row6 col4\" ><img src = \"data:image/png;base64, iVBORw0KGgoAAAANSUhEUgAAAJsAAAD+CAYAAAAtWHdlAAAAOXRFWHRTb2Z0d2FyZQBNYXRwbG90bGliIHZlcnNpb24zLjguMywgaHR0cHM6Ly9tYXRwbG90bGliLm9yZy/H5lhTAAAACXBIWXMAAA9hAAAPYQGoP6dpAAADv0lEQVR4nO3cQWojVwBF0S9TmPakhCjwYrQILzaLqN0YoxrExhNlEHUGGaSVTnxFlHNmhjbU4PIlF//17nw+Dyg83PoB+P8QGxmxkREbGbGRERsZsZERGxmxkdmNMZ7GGI+Xnz/P5/P7DZ+HOzYty/Iyz/NhjDG2bXvb7Xa/CI6v8DDP8+F4PL4fj8f3S3SPP/wt+AnTGGPs9/uPy89PN3wW7pw/EMiIjYzYyIiNjNjIiI2M2MiIjYzYyIiNjNjIiI2M2MiIjcw0xhin0+nbrR+E+zdt2/a2rusfN3XHGJ83fibulA0CmZ3/MovK95NtONH4atOyLC9jjGFVxVd7mOf5YFVFwXs2MmIjIzYyYiMjNjJiIyM2MmIjIzYyYiMjNjJiIyM2MmIjIzYy02XkMoahC1/MtXAyBi9knGxkDF7IGLyQ8eqDjNjIiI2M2MiIjYzYyIiNjNjIiI2M2MiIjYzYyIiNjNjIiI2MwQsZ18LJGLyQ8Z2NjI9RMtZVZKyryPjORkZsZMRGRmxkxEZGbGTERkZsZMRGRmxkxEZGbGTERkZsZMRGxrqKjGvhZKyryDjZyBi8kDF4IePVBxmxkREbGbGRERsZsZERGxmxkREbGbGRERsZsZERGxmxkREbGYMXMq6FkzF4IeNkI2PwQsbghYxXH2TERkZsZMRGRmxkxEZGbGTERkZsZMRGRmxkxEZGbGTERkZsZMRGxrqKjA0CGesqMk42MtZVZKyryHj1QUZsZMRGRmxkxEZGbGTERkZsZMRGRmxkxEZGbGTERkZsZMRGxuCFjGvhZAxeyDjZyBi8kDF4IePVBxmxkREbGbGRERsZsZERGxmxkREbGbGRERsZsZERGxmxkREbGYMXMq6FkzF4IeM7Gxkfo2Ssq8hYV5HxnY2M2MiIjYzYyIiNjNjIiI2M2MiIjYzYyIiNjNjIiI2M2MiIjYx1FRnXwslYV5FxspExeCFj8ELGqw8yYiMjNjJiIyM2MmIjIzYyYiMjNjJiIyM2MmIjIzYyYiMjNjIGL2RcCydj8ELm+8nmSjj/xOc1n4zTsiwvlw0C/JRt296uGUxN8zwfjsfj+36//6gejvtxOp2+ret6eH19fRxj/HVsY4yx3+8/np+ff02ejnv0dM0/8p6NjNjIiI2M2MiIjYzYyIiNjNjIiI2M2MiIjYzYyIiNzDTG79dEbv0g/Df9nXambdve1nU9jCuvicCfXUZTPxxMuRbOv+Gqa+EGL2T8gUBGbGTERkZsZMRGRmxkxEZGbGTERuY3dKAjpjuo6M4AAAAASUVORK5CYII=\"></img></td>\n",
       "      <td id=\"T_bd28d_row6_col5\" class=\"data row6 col5\" >14<br>(2.0%)</td>\n",
       "    </tr>\n",
       "    <tr>\n",
       "      <td id=\"T_bd28d_row7_col0\" class=\"data row7 col0\" >8</td>\n",
       "      <td id=\"T_bd28d_row7_col1\" class=\"data row7 col1\" ><strong>LONGITUD</strong><br>[float64]</td>\n",
       "      <td id=\"T_bd28d_row7_col2\" class=\"data row7 col2\" >Mean (sd) : -58.4 (0.0)<br>min < med < max:<br>-58.5 < -58.4 < -58.4<br>IQR (CV) : 0.1 (-1266.5)</td>\n",
       "      <td id=\"T_bd28d_row7_col3\" class=\"data row7 col3\" >604 distinct values</td>\n",
       "      <td id=\"T_bd28d_row7_col4\" class=\"data row7 col4\" ><img src = \"data:image/png;base64, iVBORw0KGgoAAAANSUhEUgAAAKoAAABGCAYAAABc8A97AAAAOXRFWHRTb2Z0d2FyZQBNYXRwbG90bGliIHZlcnNpb24zLjguMywgaHR0cHM6Ly9tYXRwbG90bGliLm9yZy/H5lhTAAAACXBIWXMAAA9hAAAPYQGoP6dpAAACsUlEQVR4nO3cP47aQBSA8TdhQQYUI0QEnS8QKQUlTW6Qw6ZNlwIuwA1oEBICI5y1MMapIrHSZhfP2Ot51vfrzbr4NOs3/mOKohDAd5+aPgHgEU9Nn0BdjDF9Eek5/MSlKIrnqs4HbloZqjGmP5lMfoRhOLb9jdPpdDDG/CRWP7QyVBHphWE4XiwWz6PRKC17cBzHwXK5HO/3+56IEKoH2hqqiIiMRqN0Op3+sTy8X+nJwAnDFFQgVKhAqFCh1deoKMfnLT1ChYj4v6VHqPjH6y09QsULvm7pEep/5HneFZHQGGNzOLdfK0aor0iSpJtl2bcoijqdTqf0v0Fuv1aPUF9xuVyegiAYzOfzdDabHcoc63qt5vPk3SRCfcNwOLS9XrO6VvN98m4SofrF68m7SYTqIV8n7yYRass47FaEt9utW8MpVYJQW8RltyLLsiDP869pmv4WEdvVvDZeh+owAXu9OtTFZbdis9mM1+v14Hq9duo6PxfehuoyAfu+OtTNZrficDh4fW3rbajiMAH7vjqgPJ9DFRG7Cdj31QHl8eA0VCBUqECoUIFQoQKhQgVChQreb09p1Nb77U0i1Iq1+X57kwi1Ym2+394kQq1JG++3N4lhCiq8u6I6vmzWyhfN8PHeDNX1ZbPj8Xg2xvwSkdLv/wgTMO68t6JaP2q33W4/r1ar71EUfbF5N54JGPceGqZsH7WznX5FmIDxUu1Tv+278UzAuMfUDxXYR0Vl6vywHKGiEnV/WI5QUYm6PyxHqKhUXR+WY5iCCoQKFQgVKhAqVCBUqECoUIFQoQKhQgVChQqEChUIFSoQKlQgVKhAqFCBUKECoUIFQoUKhAoVCBUqECpUIFSoQKhQgVChwkPv9cdxHJT94fP5HIiIJEkS7Ha7wUcer/Vvaz1v1+Mf6esvS+6tC64wtNMAAAAASUVORK5CYII=\"></img></td>\n",
       "      <td id=\"T_bd28d_row7_col5\" class=\"data row7 col5\" >12<br>(1.7%)</td>\n",
       "    </tr>\n",
       "    <tr>\n",
       "      <td id=\"T_bd28d_row8_col0\" class=\"data row8 col0\" >9</td>\n",
       "      <td id=\"T_bd28d_row8_col1\" class=\"data row8 col1\" ><strong>LATITUD</strong><br>[float64]</td>\n",
       "      <td id=\"T_bd28d_row8_col2\" class=\"data row8 col2\" >Mean (sd) : -34.6 (0.0)<br>min < med < max:<br>-34.7 < -34.6 < -34.5<br>IQR (CV) : 0.0 (-981.0)</td>\n",
       "      <td id=\"T_bd28d_row8_col3\" class=\"data row8 col3\" >604 distinct values</td>\n",
       "      <td id=\"T_bd28d_row8_col4\" class=\"data row8 col4\" ><img src = \"data:image/png;base64, iVBORw0KGgoAAAANSUhEUgAAAKoAAABGCAYAAABc8A97AAAAOXRFWHRTb2Z0d2FyZQBNYXRwbG90bGliIHZlcnNpb24zLjguMywgaHR0cHM6Ly9tYXRwbG90bGliLm9yZy/H5lhTAAAACXBIWXMAAA9hAAAPYQGoP6dpAAACw0lEQVR4nO3cMY7aQBSA4TdhQQYUW4gIOi4QKQUlTW6Qw6ZNl4K9ADegQUjIGEEWAbbTRFEiIbA99jJv+L9+dl38MnjMG5PnuQCu+/DoCwCKeHn0BbjKGNMVkU7F5ac8z9/qvJ5nR6hXGGO6w+HwWxiGgyrrd7tdbIz5Tqz1IdTrOmEYDmaz2VsURccyC5MkCebz+WCz2XREhFBrQqg3RFF0HI1Gvyos7dZ+MU+OhymoQKhQgVChAqFCBUKFCoQKFQgVKhAqVCBUqECoUIFQoQKhQgVChQqEChUIFSoQKlQgVKhAqFCBUKGCtzNTluPOYZZl7TqvB3a8DNV23Pl8Pgdpmn4+Ho8/RaTKcB9q5mWoYjHuLCKyXC4Hi8Wid7lcWk1cHMrzNVQRqT7uHMex1bhzmqZtEQmNMVWWc8rKFV6H+giHw6F9Pp+/TCaTVqvVKn033263e2PMDxEpvfYPL0Mn1JqdTqeXIAh60+n0OB6P4zJrV6vVx9fX16+TyeRTlchF/D1OiFAb0u/3S3/tiOO4WzVyEb+PEyJUB1WJ/B9eHifEhj9UIFSoQKhQgVChAqFCBUKFCoQKFQgVKhAqVCBUqECoUMHpd/0W4ySMknjG2VBtxkkYJfGPs6GKxTjJM4+S+Dpd4HKoIlJtnMR2lEQr2+kCl3907XyoKM5musD1H10Tqocsfnjt7CcR21NQgVChAqFChUa/o3L+E+rSWKic//R8LG9MN/dwm7yjcv7TE7G9Md3bw218e+pR5z/h3VW+MRXZw2UfFX9Zvn4NsyxrR1EUN7GHS6gQEfvXr00/UxAqRMTu9atI888UhIr/VH392vQzBRv+UIFQoQKhQoW731GZW4ILbobK3BJcce+OytwSnFBoe4q5JTwaD1NQodAdNUmSoOwf3u/3gYjI4XAI1ut17z3Xa/3fWq/bdn2Rvn4DFC6jHXINx90AAAAASUVORK5CYII=\"></img></td>\n",
       "      <td id=\"T_bd28d_row8_col5\" class=\"data row8 col5\" >12<br>(1.7%)</td>\n",
       "    </tr>\n",
       "    <tr>\n",
       "      <td id=\"T_bd28d_row9_col0\" class=\"data row9 col0\" >10</td>\n",
       "      <td id=\"T_bd28d_row9_col1\" class=\"data row9 col1\" ><strong>VEHICULO_VICTIMA</strong><br>[category]</td>\n",
       "      <td id=\"T_bd28d_row9_col2\" class=\"data row9 col2\" >1. MOTO<br>2. PEATON<br>3. AUTO<br>4. BICICLETA<br>5. nan<br>6. CARGAS<br>7. PASAJEROS<br>8. MOVIL<br>9. OBJETO FIJO<br>10. PEATON_MOTO</td>\n",
       "      <td id=\"T_bd28d_row9_col3\" class=\"data row9 col3\" >295 (42.4%)<br>264 (37.9%)<br>83 (11.9%)<br>29 (4.2%)<br>9 (1.3%)<br>7 (1.0%)<br>5 (0.7%)<br>2 (0.3%)<br>1 (0.1%)<br>1 (0.1%)</td>\n",
       "      <td id=\"T_bd28d_row9_col4\" class=\"data row9 col4\" ><img src = \"data:image/png;base64, iVBORw0KGgoAAAANSUhEUgAAAJsAAADnCAYAAAAJgSQ2AAAAOXRFWHRTb2Z0d2FyZQBNYXRwbG90bGliIHZlcnNpb24zLjguMywgaHR0cHM6Ly9tYXRwbG90bGliLm9yZy/H5lhTAAAACXBIWXMAAA9hAAAPYQGoP6dpAAAD3UlEQVR4nO3dTW7bVgBG0SdBSOMJBUNAltDOvAAvIovtIrQAD7sHw7AGdZKJMmj6M0icABUvA/GcFTwDF6RJ8LM35/N5QGG79AFYD7GRERsZsZERGxmxkREbGbGRERuZzRjjZozxZumD/AQ+nc/nl6UPcc12h8Ph/TRNt0sfZGmn0+lps9n8Lrj57KZpur2/v3/Z7/cflj7MUp6fn98ej8fbx8fHN2MMsc1kN8YY+/3+w7t37/5c+jALu1n6ANfOAwIZsZERGxmxkREbGbGRERsZsZERGxmxkREbGbGRERuZ3Rh/fWKz9EGWtPafv7I7nU5Px+Pxdqz8E5vT6fQ0xvi09Dmumc/C/+Wz8Jlt/BUjKmu7srl6LWhVgxejlmWtZvBi1LK8tQ1eVv3EvTQvdcmIjYzYyIiNjNjIiI2M2MiIjYzYyIiNjNjIiI2M2MisZvCyhp/xZ7eqwYtRy7J8Fk7G4IXMJa9srhq86mKDF2MSvucigxdjEn7EJQcvV/80y//jpS4ZsZERGxmxkREbGbGRERsZsZERGxmxkREbGbGRERsZsZG5yLrKcokfcbF1leUS32ODQMa6isxrVzZXKi7qm+sqayku7avrKmsp5vDauspaiovyUpeM2MiIjYzYyIiNjNjIiI2M2MiIjYzYyIiNjNjIiI3MVwcvBizM4ZuDFwMWLs1n4WQMXsj898rmSsas/hm8GLgwt+00Tbd3d3fjy8JqLf8KkgVsxxjj5ubm49IH4fp5qUtGbGTERkZsZMRGRmxkxEZGbGTERkZsZMRGRmxkxEZmO8YYLy8vvyx9EK7f9nQ6PT08PBi4MDufhZMxeCHjAYGM2ygZ6yoy1lVkrKvIeEAgIzYyYiMjNjJiIyM2MmIjIzYyYiMjNjJiIyM2MmIjY11FxrqKjM/CyVhXkfn7yjZc1Zjb7nA4vB9jDGMX5radpunW2IWC92xkxEZGbGTERkZsZMRGRmxkxEZGbGTERkZsZMRGRmxkxEZGbGR2X4YuYxi7MDOfhZMxeCHjdzYyYiOz3Ww2v202m7dLH4Trtx1j/DrG8Lc+mJ3bKBmxkREbGbGRERsZsZERGxmxkREbGbGRERsZsZERGxmxkREbme0Y448xxselD8L1M3gh4zZKRmxkDF7IGLyQcRslIzYyYiMjNjJiIyM2MmIjIzYyYiMjNjJiIyM2MmIjIzYyYiNj8ELG4IWM2ygZsZExeCFj8ELGbZSM2MiIjYzYyIiNjNjIiI2M2MiIjYzYyIiNjNjIiI2M2MiIjYzYyFhXkbGuIuM2SkZsZMRGRmxkxEZGbGTERkZsZD4D59BLIIK/ALkAAAAASUVORK5CYII=\"></img></td>\n",
       "      <td id=\"T_bd28d_row9_col5\" class=\"data row9 col5\" >9<br>(1.3%)</td>\n",
       "    </tr>\n",
       "    <tr>\n",
       "      <td id=\"T_bd28d_row10_col0\" class=\"data row10 col0\" >11</td>\n",
       "      <td id=\"T_bd28d_row10_col1\" class=\"data row10 col1\" ><strong>VEHICULO_ACUSADO</strong><br>[category]</td>\n",
       "      <td id=\"T_bd28d_row10_col2\" class=\"data row10 col2\" >1. AUTO<br>2. PASAJEROS<br>3. CARGAS<br>4. OBJETO FIJO<br>5. MOTO<br>6. nan<br>7. MULTIPLE<br>8. BICICLETA<br>9. OTRO<br>10. TREN</td>\n",
       "      <td id=\"T_bd28d_row10_col3\" class=\"data row10 col3\" >204 (29.3%)<br>173 (24.9%)<br>146 (21.0%)<br>62 (8.9%)<br>57 (8.2%)<br>23 (3.3%)<br>17 (2.4%)<br>7 (1.0%)<br>6 (0.9%)<br>1 (0.1%)</td>\n",
       "      <td id=\"T_bd28d_row10_col4\" class=\"data row10 col4\" ><img src = \"data:image/png;base64, iVBORw0KGgoAAAANSUhEUgAAAJsAAADnCAYAAAAJgSQ2AAAAOXRFWHRTb2Z0d2FyZQBNYXRwbG90bGliIHZlcnNpb24zLjguMywgaHR0cHM6Ly9tYXRwbG90bGliLm9yZy/H5lhTAAAACXBIWXMAAA9hAAAPYQGoP6dpAAAEJElEQVR4nO3dQW7bVhiF0Z+CkFYTCoIAL6GdeQFeRBbbRWgBHnYPhmEOqiQTZdC0qGEHNWm/S0o6ZwVv8OEpJHid7nQ6FSSs5j4A10NsxIiNGLERIzZixEaM2IgRGzFiI6arqk1VfZr7ICN9O51Ox7kPwTjr/X7/ue/73dwHGWMYhseu6/4Q3HlZ932/u7u7O2632y9zH+Ytnp6efj0cDruHh4dPVSW2M7Kuqtput19ubm7+mvswI2zmPgDjeUAgRmzEiI0YsREjNmLERozYiBEbMWIjRmzEiI0YsREjNmLWVX9/tjP3Qd7qnM7Kc+thGB4Ph8OuzuiznWEYHqvq29znYByfhRPT+StGpCz9ZnODXZBFD14MWy7LYgcvhi2XZ+mDl7N5Qub/ealLjNiIERsxYiNGbMSIjRixESM2YsRGjNiIERsxYiNGbMQsdvCyxDPxPosevBi2XBafhRNj8ELMUm42N9gVWMTgxbDlOsw+eDFsuR5LGbws7kmYj+elLjFiI0ZsxIiNGLERIzZixEaM2IgRGzFiI0ZsxIiNGLERIzZiZl9XWVFdj0Wsq6yoroMNAjHWVcS852ZzGzHK5HWVRRRjTVpXWUQxxXvWVRZRjOKlLjFiI0ZsxIiNGLERIzZixEaM2IgRGzFiI0ZsxIiNGLERM2nwYqTCFJMHL0YqjOWzcGIMXoiZerO51Rht0uDF2IUpRg9ejF2YaurgxdiF0bzUJUZsxIiNGLERIzZixEaM2IgRGzFiI0ZsxIiNGLERIzZiRg9ejF2YatLgxdiFKXwWTozBCzEeEIj52c+on0k+3KvrKuspWnixrrKeopWfrausp/hwHhCIERsxYiNGbMSIjRixESM2YsRGjNiIERsxYiNGbMSIjZgX6yrrKVp5dV1lPUULPgsnxrqKmNduNrcaTbwYvBi70MqzwYuxCy29NngxdqEJL3WJERsxYiNGbMSIjRixESM2YsRGjNiIERsxYiNGbMSIjZhngxdjF1p6MXgxdqEVn4UTY/BCjAcEYv77M+rnk6b+XVdZVdHaqu/73e3tbf2Y8439f0fhzVZVVZvN5uvcB+HyeUAgRmzEiI0YsREjNmLERozYiBEbMWIjRmzEiI0YsREjNmJWVVXH4/GXuQ/C5VsNw/B4f39vVUVzPgsnxrqKmH9utnKr0dp6v99/rqoydqG1Vd/3O2MXErxnI0ZsxIiNGLERIzZixEaM2IgRGzFiI0ZsxIiNGLERIzZixEaM2IhZ/xi6VBm70JjPwokxeCHGv9mIWXVd93vXdf6fUZpbVdVvVeXPL9Ccn1FixEaM2IgRGzFiI0ZsxIiNGLERIzZixEaM2IgRGzFiI0ZsxIiNGLERs6qqP6vq69wH4fIZvBDjZ5QYsREjNmLERozYiBEbMWIjRmzEfAfRaLpbxeRB0QAAAABJRU5ErkJggg==\"></img></td>\n",
       "      <td id=\"T_bd28d_row10_col5\" class=\"data row10 col5\" >23<br>(3.3%)</td>\n",
       "    </tr>\n",
       "  </tbody>\n",
       "</table>\n"
      ],
      "text/plain": [
       "<pandas.io.formats.style.Styler at 0x226d8c0e300>"
      ]
     },
     "execution_count": 24,
     "metadata": {},
     "output_type": "execute_result"
    }
   ],
   "source": [
    "dfSummary(df_hechos)"
   ]
  },
  {
   "cell_type": "markdown",
   "metadata": {},
   "source": [
    "**Tabla de \"VICTIMAS\"**"
   ]
  },
  {
   "cell_type": "code",
   "execution_count": 25,
   "metadata": {},
   "outputs": [
    {
     "data": {
      "text/html": [
       "<div>\n",
       "<style scoped>\n",
       "    .dataframe tbody tr th:only-of-type {\n",
       "        vertical-align: middle;\n",
       "    }\n",
       "\n",
       "    .dataframe tbody tr th {\n",
       "        vertical-align: top;\n",
       "    }\n",
       "\n",
       "    .dataframe thead th {\n",
       "        text-align: right;\n",
       "    }\n",
       "</style>\n",
       "<table border=\"1\" class=\"dataframe\">\n",
       "  <thead>\n",
       "    <tr style=\"text-align: right;\">\n",
       "      <th></th>\n",
       "      <th>ID_hecho</th>\n",
       "      <th>FECHA</th>\n",
       "      <th>AAAA</th>\n",
       "      <th>MM</th>\n",
       "      <th>DD</th>\n",
       "      <th>ROL</th>\n",
       "      <th>VICTIMA</th>\n",
       "      <th>SEXO</th>\n",
       "      <th>EDAD</th>\n",
       "      <th>FECHA_FALLECIMIENTO</th>\n",
       "    </tr>\n",
       "  </thead>\n",
       "  <tbody>\n",
       "    <tr>\n",
       "      <th>0</th>\n",
       "      <td>2016-0001</td>\n",
       "      <td>2016-01-01</td>\n",
       "      <td>2016</td>\n",
       "      <td>1</td>\n",
       "      <td>1</td>\n",
       "      <td>CONDUCTOR</td>\n",
       "      <td>MOTO</td>\n",
       "      <td>MASCULINO</td>\n",
       "      <td>19.0</td>\n",
       "      <td>2016-01-01 00:00:00</td>\n",
       "    </tr>\n",
       "    <tr>\n",
       "      <th>1</th>\n",
       "      <td>2016-0002</td>\n",
       "      <td>2016-01-02</td>\n",
       "      <td>2016</td>\n",
       "      <td>1</td>\n",
       "      <td>2</td>\n",
       "      <td>CONDUCTOR</td>\n",
       "      <td>AUTO</td>\n",
       "      <td>MASCULINO</td>\n",
       "      <td>70.0</td>\n",
       "      <td>2016-01-02 00:00:00</td>\n",
       "    </tr>\n",
       "    <tr>\n",
       "      <th>2</th>\n",
       "      <td>2016-0003</td>\n",
       "      <td>2016-01-03</td>\n",
       "      <td>2016</td>\n",
       "      <td>1</td>\n",
       "      <td>3</td>\n",
       "      <td>CONDUCTOR</td>\n",
       "      <td>MOTO</td>\n",
       "      <td>MASCULINO</td>\n",
       "      <td>30.0</td>\n",
       "      <td>2016-01-03 00:00:00</td>\n",
       "    </tr>\n",
       "    <tr>\n",
       "      <th>3</th>\n",
       "      <td>2016-0004</td>\n",
       "      <td>2016-01-10</td>\n",
       "      <td>2016</td>\n",
       "      <td>1</td>\n",
       "      <td>10</td>\n",
       "      <td>CONDUCTOR</td>\n",
       "      <td>MOTO</td>\n",
       "      <td>MASCULINO</td>\n",
       "      <td>18.0</td>\n",
       "      <td>NaN</td>\n",
       "    </tr>\n",
       "    <tr>\n",
       "      <th>4</th>\n",
       "      <td>2016-0005</td>\n",
       "      <td>2016-01-21</td>\n",
       "      <td>2016</td>\n",
       "      <td>1</td>\n",
       "      <td>21</td>\n",
       "      <td>CONDUCTOR</td>\n",
       "      <td>MOTO</td>\n",
       "      <td>MASCULINO</td>\n",
       "      <td>29.0</td>\n",
       "      <td>2016-02-01 00:00:00</td>\n",
       "    </tr>\n",
       "  </tbody>\n",
       "</table>\n",
       "</div>"
      ],
      "text/plain": [
       "    ID_hecho      FECHA  AAAA  MM  DD        ROL VICTIMA       SEXO  EDAD  \\\n",
       "0  2016-0001 2016-01-01  2016   1   1  CONDUCTOR    MOTO  MASCULINO  19.0   \n",
       "1  2016-0002 2016-01-02  2016   1   2  CONDUCTOR    AUTO  MASCULINO  70.0   \n",
       "2  2016-0003 2016-01-03  2016   1   3  CONDUCTOR    MOTO  MASCULINO  30.0   \n",
       "3  2016-0004 2016-01-10  2016   1  10  CONDUCTOR    MOTO  MASCULINO  18.0   \n",
       "4  2016-0005 2016-01-21  2016   1  21  CONDUCTOR    MOTO  MASCULINO  29.0   \n",
       "\n",
       "   FECHA_FALLECIMIENTO  \n",
       "0  2016-01-01 00:00:00  \n",
       "1  2016-01-02 00:00:00  \n",
       "2  2016-01-03 00:00:00  \n",
       "3                  NaN  \n",
       "4  2016-02-01 00:00:00  "
      ]
     },
     "execution_count": 25,
     "metadata": {},
     "output_type": "execute_result"
    }
   ],
   "source": [
    "#Visualizamos las prim\n",
    "df_victimas.head()"
   ]
  },
  {
   "cell_type": "code",
   "execution_count": 26,
   "metadata": {},
   "outputs": [
    {
     "name": "stdout",
     "output_type": "stream",
     "text": [
      "<class 'pandas.core.frame.DataFrame'>\n",
      "RangeIndex: 717 entries, 0 to 716\n",
      "Data columns (total 10 columns):\n",
      " #   Column               Non-Null Count  Dtype         \n",
      "---  ------               --------------  -----         \n",
      " 0   ID_hecho             717 non-null    object        \n",
      " 1   FECHA                717 non-null    datetime64[ns]\n",
      " 2   AAAA                 717 non-null    int64         \n",
      " 3   MM                   717 non-null    int64         \n",
      " 4   DD                   717 non-null    int64         \n",
      " 5   ROL                  706 non-null    object        \n",
      " 6   VICTIMA              708 non-null    object        \n",
      " 7   SEXO                 711 non-null    object        \n",
      " 8   EDAD                 664 non-null    float64       \n",
      " 9   FECHA_FALLECIMIENTO  649 non-null    object        \n",
      "dtypes: datetime64[ns](1), float64(1), int64(3), object(5)\n",
      "memory usage: 56.1+ KB\n"
     ]
    }
   ],
   "source": [
    "df_victimas.info()"
   ]
  },
  {
   "cell_type": "markdown",
   "metadata": {},
   "source": [
    "Así como en la primera tabla, dentro de la exploración y sobre lo que nos están solicitado, vamos a eliminar las dimensiones (columnas) que no se utilizarán dentro del análisis."
   ]
  },
  {
   "cell_type": "code",
   "execution_count": 28,
   "metadata": {},
   "outputs": [],
   "source": [
    "\n",
    "#Eliminamos columnas irrelevantes para el análisis\n",
    "df_victimas.drop(columns=['AAAA','MM','DD','FECHA_FALLECIMIENTO'], inplace=True)"
   ]
  },
  {
   "cell_type": "code",
   "execution_count": 30,
   "metadata": {},
   "outputs": [
    {
     "name": "stdout",
     "output_type": "stream",
     "text": [
      "<class 'pandas.core.frame.DataFrame'>\n",
      "RangeIndex: 717 entries, 0 to 716\n",
      "Data columns (total 6 columns):\n",
      " #   Column    Non-Null Count  Dtype         \n",
      "---  ------    --------------  -----         \n",
      " 0   ID_hecho  717 non-null    object        \n",
      " 1   FECHA     717 non-null    datetime64[ns]\n",
      " 2   ROL       706 non-null    object        \n",
      " 3   VICTIMA   708 non-null    object        \n",
      " 4   SEXO      711 non-null    object        \n",
      " 5   EDAD      664 non-null    float64       \n",
      "dtypes: datetime64[ns](1), float64(1), object(4)\n",
      "memory usage: 33.7+ KB\n"
     ]
    }
   ],
   "source": [
    "df_victimas.info()"
   ]
  },
  {
   "cell_type": "markdown",
   "metadata": {},
   "source": [
    "Analizamos que la edad junto a otras dimensiones serán categóricas, por ende, se crea una función para asignar el rango etario."
   ]
  },
  {
   "cell_type": "code",
   "execution_count": 38,
   "metadata": {},
   "outputs": [],
   "source": [
    "#Creamos la función de asignar rango etario\n",
    "def asignar_rango_etario(edad):\n",
    "    if edad < 18:\n",
    "        return \"1) 0 a 17 años\"\n",
    "    elif 18 <= edad <= 29:\n",
    "        return \"2) 18 a 29 años\"\n",
    "    elif 30 <= edad <= 39:\n",
    "        return \"3) 30 a 39 años\"\n",
    "    elif 40 <= edad <= 49:\n",
    "        return \"4) 45 a 49 años\"\n",
    "    elif 50 <= edad <= 59:\n",
    "        return \"5) 50 a 59 años\"\n",
    "    elif edad >= 60:\n",
    "        return \"6) 60 años o mas\"\n",
    "    else:\n",
    "        return np.nan"
   ]
  },
  {
   "cell_type": "code",
   "execution_count": 39,
   "metadata": {},
   "outputs": [
    {
     "data": {
      "text/html": [
       "<div>\n",
       "<style scoped>\n",
       "    .dataframe tbody tr th:only-of-type {\n",
       "        vertical-align: middle;\n",
       "    }\n",
       "\n",
       "    .dataframe tbody tr th {\n",
       "        vertical-align: top;\n",
       "    }\n",
       "\n",
       "    .dataframe thead th {\n",
       "        text-align: right;\n",
       "    }\n",
       "</style>\n",
       "<table border=\"1\" class=\"dataframe\">\n",
       "  <thead>\n",
       "    <tr style=\"text-align: right;\">\n",
       "      <th></th>\n",
       "      <th>ID_hecho</th>\n",
       "      <th>FECHA</th>\n",
       "      <th>ROL</th>\n",
       "      <th>VICTIMA</th>\n",
       "      <th>SEXO</th>\n",
       "      <th>EDAD</th>\n",
       "      <th>RANGO_ETARIO</th>\n",
       "    </tr>\n",
       "  </thead>\n",
       "  <tbody>\n",
       "    <tr>\n",
       "      <th>0</th>\n",
       "      <td>2016-0001</td>\n",
       "      <td>2016-01-01</td>\n",
       "      <td>CONDUCTOR</td>\n",
       "      <td>MOTO</td>\n",
       "      <td>MASCULINO</td>\n",
       "      <td>19.0</td>\n",
       "      <td>2) 18 a 29 años</td>\n",
       "    </tr>\n",
       "    <tr>\n",
       "      <th>1</th>\n",
       "      <td>2016-0002</td>\n",
       "      <td>2016-01-02</td>\n",
       "      <td>CONDUCTOR</td>\n",
       "      <td>AUTO</td>\n",
       "      <td>MASCULINO</td>\n",
       "      <td>70.0</td>\n",
       "      <td>6) 60 años o mas</td>\n",
       "    </tr>\n",
       "    <tr>\n",
       "      <th>2</th>\n",
       "      <td>2016-0003</td>\n",
       "      <td>2016-01-03</td>\n",
       "      <td>CONDUCTOR</td>\n",
       "      <td>MOTO</td>\n",
       "      <td>MASCULINO</td>\n",
       "      <td>30.0</td>\n",
       "      <td>3) 30 a 39 años</td>\n",
       "    </tr>\n",
       "    <tr>\n",
       "      <th>3</th>\n",
       "      <td>2016-0004</td>\n",
       "      <td>2016-01-10</td>\n",
       "      <td>CONDUCTOR</td>\n",
       "      <td>MOTO</td>\n",
       "      <td>MASCULINO</td>\n",
       "      <td>18.0</td>\n",
       "      <td>2) 18 a 29 años</td>\n",
       "    </tr>\n",
       "    <tr>\n",
       "      <th>4</th>\n",
       "      <td>2016-0005</td>\n",
       "      <td>2016-01-21</td>\n",
       "      <td>CONDUCTOR</td>\n",
       "      <td>MOTO</td>\n",
       "      <td>MASCULINO</td>\n",
       "      <td>29.0</td>\n",
       "      <td>2) 18 a 29 años</td>\n",
       "    </tr>\n",
       "  </tbody>\n",
       "</table>\n",
       "</div>"
      ],
      "text/plain": [
       "    ID_hecho      FECHA        ROL VICTIMA       SEXO  EDAD      RANGO_ETARIO\n",
       "0  2016-0001 2016-01-01  CONDUCTOR    MOTO  MASCULINO  19.0   2) 18 a 29 años\n",
       "1  2016-0002 2016-01-02  CONDUCTOR    AUTO  MASCULINO  70.0  6) 60 años o mas\n",
       "2  2016-0003 2016-01-03  CONDUCTOR    MOTO  MASCULINO  30.0   3) 30 a 39 años\n",
       "3  2016-0004 2016-01-10  CONDUCTOR    MOTO  MASCULINO  18.0   2) 18 a 29 años\n",
       "4  2016-0005 2016-01-21  CONDUCTOR    MOTO  MASCULINO  29.0   2) 18 a 29 años"
      ]
     },
     "execution_count": 39,
     "metadata": {},
     "output_type": "execute_result"
    }
   ],
   "source": [
    "#Aplicamos la función de rango etario y lo agregamos a una dimensión\n",
    "df_victimas['RANGO_ETARIO'] = df_victimas['EDAD'].apply(lambda x: asignar_rango_etario(x))\n",
    "df_victimas.head()"
   ]
  },
  {
   "cell_type": "code",
   "execution_count": 40,
   "metadata": {},
   "outputs": [],
   "source": [
    "# Renombramos las columnas\n",
    "new_names2 = {'ID_hecho':'ID_HECHO','ROL':'ROL_VICTIMA','VICTIMA':'VEHICULO_VICTIMA','SEXO':'SEXO_VICTIMA','EDAD':'EDAD_VICTIMA'}\n",
    "\n",
    "# Reemplazamos nombres de columnas\n",
    "df_victimas = df_victimas.rename(columns=new_names2)"
   ]
  },
  {
   "cell_type": "code",
   "execution_count": 42,
   "metadata": {},
   "outputs": [
    {
     "data": {
      "text/plain": [
       "Index(['ID_HECHO', 'FECHA', 'ROL_VICTIMA', 'VEHICULO_VICTIMA', 'SEXO_VICTIMA',\n",
       "       'EDAD_VICTIMA', 'RANGO_ETARIO'],\n",
       "      dtype='object')"
      ]
     },
     "execution_count": 42,
     "metadata": {},
     "output_type": "execute_result"
    }
   ],
   "source": [
    "df_victimas.columns"
   ]
  },
  {
   "cell_type": "markdown",
   "metadata": {},
   "source": [
    "Cambiamos el tipo de algunas dimensiones (columnas)"
   ]
  },
  {
   "cell_type": "code",
   "execution_count": 44,
   "metadata": {},
   "outputs": [],
   "source": [
    "#Cambiamos el tipo de algunas dimensiones(columnas) a Categóricos\n",
    "df_victimas['ROL_VICTIMA'] = df_victimas['ROL_VICTIMA'].astype('category')\n",
    "df_victimas['VEHICULO_VICTIMA'] = df_victimas['VEHICULO_VICTIMA'].astype('category')\n",
    "df_victimas['SEXO_VICTIMA'] = df_victimas['SEXO_VICTIMA'].astype('category')\n",
    "df_victimas['RANGO_ETARIO'] = df_victimas['RANGO_ETARIO'].astype('category')"
   ]
  },
  {
   "cell_type": "code",
   "execution_count": 46,
   "metadata": {},
   "outputs": [],
   "source": [
    "#Cambiamos el tipo de la fecha\n",
    "df_victimas[\"FECHA\"]=pd.to_datetime(df_victimas[\"FECHA\"], format='%y/%m/%d', errors='coerce').dt.date"
   ]
  },
  {
   "cell_type": "code",
   "execution_count": 45,
   "metadata": {},
   "outputs": [
    {
     "name": "stdout",
     "output_type": "stream",
     "text": [
      "<class 'pandas.core.frame.DataFrame'>\n",
      "RangeIndex: 717 entries, 0 to 716\n",
      "Data columns (total 7 columns):\n",
      " #   Column            Non-Null Count  Dtype         \n",
      "---  ------            --------------  -----         \n",
      " 0   ID_HECHO          717 non-null    object        \n",
      " 1   FECHA             717 non-null    datetime64[ns]\n",
      " 2   ROL_VICTIMA       706 non-null    category      \n",
      " 3   VEHICULO_VICTIMA  708 non-null    category      \n",
      " 4   SEXO_VICTIMA      711 non-null    category      \n",
      " 5   EDAD_VICTIMA      664 non-null    float64       \n",
      " 6   RANGO_ETARIO      664 non-null    category      \n",
      "dtypes: category(4), datetime64[ns](1), float64(1), object(1)\n",
      "memory usage: 20.6+ KB\n"
     ]
    }
   ],
   "source": [
    "df_victimas.info()"
   ]
  },
  {
   "cell_type": "markdown",
   "metadata": {},
   "source": [
    "### 3. Load"
   ]
  },
  {
   "cell_type": "code",
   "execution_count": 53,
   "metadata": {},
   "outputs": [],
   "source": [
    "df_hechos.to_excel('dataset/hechos.xlsx', index=False)"
   ]
  },
  {
   "cell_type": "code",
   "execution_count": 52,
   "metadata": {},
   "outputs": [],
   "source": [
    "df_victimas.to_excel('dataset/victimas.xlsx', index=False)"
   ]
  }
 ],
 "metadata": {
  "kernelspec": {
   "display_name": "Python 3",
   "language": "python",
   "name": "python3"
  },
  "language_info": {
   "codemirror_mode": {
    "name": "ipython",
    "version": 3
   },
   "file_extension": ".py",
   "mimetype": "text/x-python",
   "name": "python",
   "nbconvert_exporter": "python",
   "pygments_lexer": "ipython3",
   "version": "3.12.2"
  }
 },
 "nbformat": 4,
 "nbformat_minor": 2
}
